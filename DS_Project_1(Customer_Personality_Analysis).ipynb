{
  "nbformat": 4,
  "nbformat_minor": 0,
  "metadata": {
    "colab": {
      "provenance": [],
      "authorship_tag": "ABX9TyOh8+/L4NFKvnnetmQ+6KCX",
      "include_colab_link": true
    },
    "kernelspec": {
      "name": "python3",
      "display_name": "Python 3"
    },
    "language_info": {
      "name": "python"
    }
  },
  "cells": [
    {
      "cell_type": "markdown",
      "metadata": {
        "id": "view-in-github",
        "colab_type": "text"
      },
      "source": [
        "<a href=\"https://colab.research.google.com/github/SmrutiNIT/project/blob/main/DS_Project_1(Customer_Personality_Analysis).ipynb\" target=\"_parent\"><img src=\"https://colab.research.google.com/assets/colab-badge.svg\" alt=\"Open In Colab\"/></a>"
      ]
    },
    {
      "cell_type": "code",
      "execution_count": 1,
      "metadata": {
        "id": "ayi0tS64KOfi"
      },
      "outputs": [],
      "source": [
        "\n",
        "# importing all necessary libraries\n",
        "import numpy as np\n",
        "import pandas as pd\n",
        "import matplotlib.pyplot as plt\n",
        "import seaborn as sns\n",
        "import plotly.express as px\n",
        "import warnings \n",
        "warnings.filterwarnings('ignore')"
      ]
    },
    {
      "cell_type": "code",
      "source": [
        "data = pd.read_excel(\"/content/marketing_campaign.xlsx\")\n",
        "\n",
        "data.head()"
      ],
      "metadata": {
        "colab": {
          "base_uri": "https://localhost:8080/",
          "height": 299
        },
        "id": "bBXStnoFKpKF",
        "outputId": "3df1ecaa-168a-4b22-e10b-0c1075fb47d2"
      },
      "execution_count": 59,
      "outputs": [
        {
          "output_type": "execute_result",
          "data": {
            "text/plain": [
              "     ID  Year_Birth   Education Marital_Status   Income  Kidhome  Teenhome  \\\n",
              "0  5524        1957  Graduation         Single  58138.0        0         0   \n",
              "1  2174        1954  Graduation         Single  46344.0        1         1   \n",
              "2  4141        1965  Graduation       Together  71613.0        0         0   \n",
              "3  6182        1984  Graduation       Together  26646.0        1         0   \n",
              "4  5324        1981         PhD        Married  58293.0        1         0   \n",
              "\n",
              "  Dt_Customer  Recency  MntWines  ...  NumWebVisitsMonth  AcceptedCmp3  \\\n",
              "0  2012-09-04       58       635  ...                  7             0   \n",
              "1  2014-03-08       38        11  ...                  5             0   \n",
              "2  2013-08-21       26       426  ...                  4             0   \n",
              "3  2014-02-10       26        11  ...                  6             0   \n",
              "4  2014-01-19       94       173  ...                  5             0   \n",
              "\n",
              "   AcceptedCmp4  AcceptedCmp5  AcceptedCmp1  AcceptedCmp2  Complain  \\\n",
              "0             0             0             0             0         0   \n",
              "1             0             0             0             0         0   \n",
              "2             0             0             0             0         0   \n",
              "3             0             0             0             0         0   \n",
              "4             0             0             0             0         0   \n",
              "\n",
              "   Z_CostContact  Z_Revenue  Response  \n",
              "0              3         11         1  \n",
              "1              3         11         0  \n",
              "2              3         11         0  \n",
              "3              3         11         0  \n",
              "4              3         11         0  \n",
              "\n",
              "[5 rows x 29 columns]"
            ],
            "text/html": [
              "\n",
              "  <div id=\"df-11d2ac5c-9661-459d-be08-f4f2dbb28323\">\n",
              "    <div class=\"colab-df-container\">\n",
              "      <div>\n",
              "<style scoped>\n",
              "    .dataframe tbody tr th:only-of-type {\n",
              "        vertical-align: middle;\n",
              "    }\n",
              "\n",
              "    .dataframe tbody tr th {\n",
              "        vertical-align: top;\n",
              "    }\n",
              "\n",
              "    .dataframe thead th {\n",
              "        text-align: right;\n",
              "    }\n",
              "</style>\n",
              "<table border=\"1\" class=\"dataframe\">\n",
              "  <thead>\n",
              "    <tr style=\"text-align: right;\">\n",
              "      <th></th>\n",
              "      <th>ID</th>\n",
              "      <th>Year_Birth</th>\n",
              "      <th>Education</th>\n",
              "      <th>Marital_Status</th>\n",
              "      <th>Income</th>\n",
              "      <th>Kidhome</th>\n",
              "      <th>Teenhome</th>\n",
              "      <th>Dt_Customer</th>\n",
              "      <th>Recency</th>\n",
              "      <th>MntWines</th>\n",
              "      <th>...</th>\n",
              "      <th>NumWebVisitsMonth</th>\n",
              "      <th>AcceptedCmp3</th>\n",
              "      <th>AcceptedCmp4</th>\n",
              "      <th>AcceptedCmp5</th>\n",
              "      <th>AcceptedCmp1</th>\n",
              "      <th>AcceptedCmp2</th>\n",
              "      <th>Complain</th>\n",
              "      <th>Z_CostContact</th>\n",
              "      <th>Z_Revenue</th>\n",
              "      <th>Response</th>\n",
              "    </tr>\n",
              "  </thead>\n",
              "  <tbody>\n",
              "    <tr>\n",
              "      <th>0</th>\n",
              "      <td>5524</td>\n",
              "      <td>1957</td>\n",
              "      <td>Graduation</td>\n",
              "      <td>Single</td>\n",
              "      <td>58138.0</td>\n",
              "      <td>0</td>\n",
              "      <td>0</td>\n",
              "      <td>2012-09-04</td>\n",
              "      <td>58</td>\n",
              "      <td>635</td>\n",
              "      <td>...</td>\n",
              "      <td>7</td>\n",
              "      <td>0</td>\n",
              "      <td>0</td>\n",
              "      <td>0</td>\n",
              "      <td>0</td>\n",
              "      <td>0</td>\n",
              "      <td>0</td>\n",
              "      <td>3</td>\n",
              "      <td>11</td>\n",
              "      <td>1</td>\n",
              "    </tr>\n",
              "    <tr>\n",
              "      <th>1</th>\n",
              "      <td>2174</td>\n",
              "      <td>1954</td>\n",
              "      <td>Graduation</td>\n",
              "      <td>Single</td>\n",
              "      <td>46344.0</td>\n",
              "      <td>1</td>\n",
              "      <td>1</td>\n",
              "      <td>2014-03-08</td>\n",
              "      <td>38</td>\n",
              "      <td>11</td>\n",
              "      <td>...</td>\n",
              "      <td>5</td>\n",
              "      <td>0</td>\n",
              "      <td>0</td>\n",
              "      <td>0</td>\n",
              "      <td>0</td>\n",
              "      <td>0</td>\n",
              "      <td>0</td>\n",
              "      <td>3</td>\n",
              "      <td>11</td>\n",
              "      <td>0</td>\n",
              "    </tr>\n",
              "    <tr>\n",
              "      <th>2</th>\n",
              "      <td>4141</td>\n",
              "      <td>1965</td>\n",
              "      <td>Graduation</td>\n",
              "      <td>Together</td>\n",
              "      <td>71613.0</td>\n",
              "      <td>0</td>\n",
              "      <td>0</td>\n",
              "      <td>2013-08-21</td>\n",
              "      <td>26</td>\n",
              "      <td>426</td>\n",
              "      <td>...</td>\n",
              "      <td>4</td>\n",
              "      <td>0</td>\n",
              "      <td>0</td>\n",
              "      <td>0</td>\n",
              "      <td>0</td>\n",
              "      <td>0</td>\n",
              "      <td>0</td>\n",
              "      <td>3</td>\n",
              "      <td>11</td>\n",
              "      <td>0</td>\n",
              "    </tr>\n",
              "    <tr>\n",
              "      <th>3</th>\n",
              "      <td>6182</td>\n",
              "      <td>1984</td>\n",
              "      <td>Graduation</td>\n",
              "      <td>Together</td>\n",
              "      <td>26646.0</td>\n",
              "      <td>1</td>\n",
              "      <td>0</td>\n",
              "      <td>2014-02-10</td>\n",
              "      <td>26</td>\n",
              "      <td>11</td>\n",
              "      <td>...</td>\n",
              "      <td>6</td>\n",
              "      <td>0</td>\n",
              "      <td>0</td>\n",
              "      <td>0</td>\n",
              "      <td>0</td>\n",
              "      <td>0</td>\n",
              "      <td>0</td>\n",
              "      <td>3</td>\n",
              "      <td>11</td>\n",
              "      <td>0</td>\n",
              "    </tr>\n",
              "    <tr>\n",
              "      <th>4</th>\n",
              "      <td>5324</td>\n",
              "      <td>1981</td>\n",
              "      <td>PhD</td>\n",
              "      <td>Married</td>\n",
              "      <td>58293.0</td>\n",
              "      <td>1</td>\n",
              "      <td>0</td>\n",
              "      <td>2014-01-19</td>\n",
              "      <td>94</td>\n",
              "      <td>173</td>\n",
              "      <td>...</td>\n",
              "      <td>5</td>\n",
              "      <td>0</td>\n",
              "      <td>0</td>\n",
              "      <td>0</td>\n",
              "      <td>0</td>\n",
              "      <td>0</td>\n",
              "      <td>0</td>\n",
              "      <td>3</td>\n",
              "      <td>11</td>\n",
              "      <td>0</td>\n",
              "    </tr>\n",
              "  </tbody>\n",
              "</table>\n",
              "<p>5 rows × 29 columns</p>\n",
              "</div>\n",
              "      <button class=\"colab-df-convert\" onclick=\"convertToInteractive('df-11d2ac5c-9661-459d-be08-f4f2dbb28323')\"\n",
              "              title=\"Convert this dataframe to an interactive table.\"\n",
              "              style=\"display:none;\">\n",
              "        \n",
              "  <svg xmlns=\"http://www.w3.org/2000/svg\" height=\"24px\"viewBox=\"0 0 24 24\"\n",
              "       width=\"24px\">\n",
              "    <path d=\"M0 0h24v24H0V0z\" fill=\"none\"/>\n",
              "    <path d=\"M18.56 5.44l.94 2.06.94-2.06 2.06-.94-2.06-.94-.94-2.06-.94 2.06-2.06.94zm-11 1L8.5 8.5l.94-2.06 2.06-.94-2.06-.94L8.5 2.5l-.94 2.06-2.06.94zm10 10l.94 2.06.94-2.06 2.06-.94-2.06-.94-.94-2.06-.94 2.06-2.06.94z\"/><path d=\"M17.41 7.96l-1.37-1.37c-.4-.4-.92-.59-1.43-.59-.52 0-1.04.2-1.43.59L10.3 9.45l-7.72 7.72c-.78.78-.78 2.05 0 2.83L4 21.41c.39.39.9.59 1.41.59.51 0 1.02-.2 1.41-.59l7.78-7.78 2.81-2.81c.8-.78.8-2.07 0-2.86zM5.41 20L4 18.59l7.72-7.72 1.47 1.35L5.41 20z\"/>\n",
              "  </svg>\n",
              "      </button>\n",
              "      \n",
              "  <style>\n",
              "    .colab-df-container {\n",
              "      display:flex;\n",
              "      flex-wrap:wrap;\n",
              "      gap: 12px;\n",
              "    }\n",
              "\n",
              "    .colab-df-convert {\n",
              "      background-color: #E8F0FE;\n",
              "      border: none;\n",
              "      border-radius: 50%;\n",
              "      cursor: pointer;\n",
              "      display: none;\n",
              "      fill: #1967D2;\n",
              "      height: 32px;\n",
              "      padding: 0 0 0 0;\n",
              "      width: 32px;\n",
              "    }\n",
              "\n",
              "    .colab-df-convert:hover {\n",
              "      background-color: #E2EBFA;\n",
              "      box-shadow: 0px 1px 2px rgba(60, 64, 67, 0.3), 0px 1px 3px 1px rgba(60, 64, 67, 0.15);\n",
              "      fill: #174EA6;\n",
              "    }\n",
              "\n",
              "    [theme=dark] .colab-df-convert {\n",
              "      background-color: #3B4455;\n",
              "      fill: #D2E3FC;\n",
              "    }\n",
              "\n",
              "    [theme=dark] .colab-df-convert:hover {\n",
              "      background-color: #434B5C;\n",
              "      box-shadow: 0px 1px 3px 1px rgba(0, 0, 0, 0.15);\n",
              "      filter: drop-shadow(0px 1px 2px rgba(0, 0, 0, 0.3));\n",
              "      fill: #FFFFFF;\n",
              "    }\n",
              "  </style>\n",
              "\n",
              "      <script>\n",
              "        const buttonEl =\n",
              "          document.querySelector('#df-11d2ac5c-9661-459d-be08-f4f2dbb28323 button.colab-df-convert');\n",
              "        buttonEl.style.display =\n",
              "          google.colab.kernel.accessAllowed ? 'block' : 'none';\n",
              "\n",
              "        async function convertToInteractive(key) {\n",
              "          const element = document.querySelector('#df-11d2ac5c-9661-459d-be08-f4f2dbb28323');\n",
              "          const dataTable =\n",
              "            await google.colab.kernel.invokeFunction('convertToInteractive',\n",
              "                                                     [key], {});\n",
              "          if (!dataTable) return;\n",
              "\n",
              "          const docLinkHtml = 'Like what you see? Visit the ' +\n",
              "            '<a target=\"_blank\" href=https://colab.research.google.com/notebooks/data_table.ipynb>data table notebook</a>'\n",
              "            + ' to learn more about interactive tables.';\n",
              "          element.innerHTML = '';\n",
              "          dataTable['output_type'] = 'display_data';\n",
              "          await google.colab.output.renderOutput(dataTable, element);\n",
              "          const docLink = document.createElement('div');\n",
              "          docLink.innerHTML = docLinkHtml;\n",
              "          element.appendChild(docLink);\n",
              "        }\n",
              "      </script>\n",
              "    </div>\n",
              "  </div>\n",
              "  "
            ]
          },
          "metadata": {},
          "execution_count": 59
        }
      ]
    },
    {
      "cell_type": "code",
      "source": [
        "data.tail()"
      ],
      "metadata": {
        "colab": {
          "base_uri": "https://localhost:8080/",
          "height": 299
        },
        "id": "h34zBFGQK1L2",
        "outputId": "6c5f8641-ddb7-40d8-c2a2-3e36b5a1e1cf"
      },
      "execution_count": 5,
      "outputs": [
        {
          "output_type": "execute_result",
          "data": {
            "text/plain": [
              "         ID  Year_Birth   Education Marital_Status   Income  Kidhome  \\\n",
              "2235  10870        1967  Graduation        Married  61223.0        0   \n",
              "2236   4001        1946         PhD       Together  64014.0        2   \n",
              "2237   7270        1981  Graduation       Divorced  56981.0        0   \n",
              "2238   8235        1956      Master       Together  69245.0        0   \n",
              "2239   9405        1954         PhD        Married  52869.0        1   \n",
              "\n",
              "      Teenhome Dt_Customer  Recency  MntWines  ...  NumWebVisitsMonth  \\\n",
              "2235         1  2013-06-13       46       709  ...                  5   \n",
              "2236         1  2014-06-10       56       406  ...                  7   \n",
              "2237         0  2014-01-25       91       908  ...                  6   \n",
              "2238         1  2014-01-24        8       428  ...                  3   \n",
              "2239         1  2012-10-15       40        84  ...                  7   \n",
              "\n",
              "      AcceptedCmp3  AcceptedCmp4  AcceptedCmp5  AcceptedCmp1  AcceptedCmp2  \\\n",
              "2235             0             0             0             0             0   \n",
              "2236             0             0             0             1             0   \n",
              "2237             0             1             0             0             0   \n",
              "2238             0             0             0             0             0   \n",
              "2239             0             0             0             0             0   \n",
              "\n",
              "      Complain  Z_CostContact  Z_Revenue  Response  \n",
              "2235         0              3         11         0  \n",
              "2236         0              3         11         0  \n",
              "2237         0              3         11         0  \n",
              "2238         0              3         11         0  \n",
              "2239         0              3         11         1  \n",
              "\n",
              "[5 rows x 29 columns]"
            ],
            "text/html": [
              "\n",
              "  <div id=\"df-fef20f83-c51c-4392-89e8-f26d26afe4cd\">\n",
              "    <div class=\"colab-df-container\">\n",
              "      <div>\n",
              "<style scoped>\n",
              "    .dataframe tbody tr th:only-of-type {\n",
              "        vertical-align: middle;\n",
              "    }\n",
              "\n",
              "    .dataframe tbody tr th {\n",
              "        vertical-align: top;\n",
              "    }\n",
              "\n",
              "    .dataframe thead th {\n",
              "        text-align: right;\n",
              "    }\n",
              "</style>\n",
              "<table border=\"1\" class=\"dataframe\">\n",
              "  <thead>\n",
              "    <tr style=\"text-align: right;\">\n",
              "      <th></th>\n",
              "      <th>ID</th>\n",
              "      <th>Year_Birth</th>\n",
              "      <th>Education</th>\n",
              "      <th>Marital_Status</th>\n",
              "      <th>Income</th>\n",
              "      <th>Kidhome</th>\n",
              "      <th>Teenhome</th>\n",
              "      <th>Dt_Customer</th>\n",
              "      <th>Recency</th>\n",
              "      <th>MntWines</th>\n",
              "      <th>...</th>\n",
              "      <th>NumWebVisitsMonth</th>\n",
              "      <th>AcceptedCmp3</th>\n",
              "      <th>AcceptedCmp4</th>\n",
              "      <th>AcceptedCmp5</th>\n",
              "      <th>AcceptedCmp1</th>\n",
              "      <th>AcceptedCmp2</th>\n",
              "      <th>Complain</th>\n",
              "      <th>Z_CostContact</th>\n",
              "      <th>Z_Revenue</th>\n",
              "      <th>Response</th>\n",
              "    </tr>\n",
              "  </thead>\n",
              "  <tbody>\n",
              "    <tr>\n",
              "      <th>2235</th>\n",
              "      <td>10870</td>\n",
              "      <td>1967</td>\n",
              "      <td>Graduation</td>\n",
              "      <td>Married</td>\n",
              "      <td>61223.0</td>\n",
              "      <td>0</td>\n",
              "      <td>1</td>\n",
              "      <td>2013-06-13</td>\n",
              "      <td>46</td>\n",
              "      <td>709</td>\n",
              "      <td>...</td>\n",
              "      <td>5</td>\n",
              "      <td>0</td>\n",
              "      <td>0</td>\n",
              "      <td>0</td>\n",
              "      <td>0</td>\n",
              "      <td>0</td>\n",
              "      <td>0</td>\n",
              "      <td>3</td>\n",
              "      <td>11</td>\n",
              "      <td>0</td>\n",
              "    </tr>\n",
              "    <tr>\n",
              "      <th>2236</th>\n",
              "      <td>4001</td>\n",
              "      <td>1946</td>\n",
              "      <td>PhD</td>\n",
              "      <td>Together</td>\n",
              "      <td>64014.0</td>\n",
              "      <td>2</td>\n",
              "      <td>1</td>\n",
              "      <td>2014-06-10</td>\n",
              "      <td>56</td>\n",
              "      <td>406</td>\n",
              "      <td>...</td>\n",
              "      <td>7</td>\n",
              "      <td>0</td>\n",
              "      <td>0</td>\n",
              "      <td>0</td>\n",
              "      <td>1</td>\n",
              "      <td>0</td>\n",
              "      <td>0</td>\n",
              "      <td>3</td>\n",
              "      <td>11</td>\n",
              "      <td>0</td>\n",
              "    </tr>\n",
              "    <tr>\n",
              "      <th>2237</th>\n",
              "      <td>7270</td>\n",
              "      <td>1981</td>\n",
              "      <td>Graduation</td>\n",
              "      <td>Divorced</td>\n",
              "      <td>56981.0</td>\n",
              "      <td>0</td>\n",
              "      <td>0</td>\n",
              "      <td>2014-01-25</td>\n",
              "      <td>91</td>\n",
              "      <td>908</td>\n",
              "      <td>...</td>\n",
              "      <td>6</td>\n",
              "      <td>0</td>\n",
              "      <td>1</td>\n",
              "      <td>0</td>\n",
              "      <td>0</td>\n",
              "      <td>0</td>\n",
              "      <td>0</td>\n",
              "      <td>3</td>\n",
              "      <td>11</td>\n",
              "      <td>0</td>\n",
              "    </tr>\n",
              "    <tr>\n",
              "      <th>2238</th>\n",
              "      <td>8235</td>\n",
              "      <td>1956</td>\n",
              "      <td>Master</td>\n",
              "      <td>Together</td>\n",
              "      <td>69245.0</td>\n",
              "      <td>0</td>\n",
              "      <td>1</td>\n",
              "      <td>2014-01-24</td>\n",
              "      <td>8</td>\n",
              "      <td>428</td>\n",
              "      <td>...</td>\n",
              "      <td>3</td>\n",
              "      <td>0</td>\n",
              "      <td>0</td>\n",
              "      <td>0</td>\n",
              "      <td>0</td>\n",
              "      <td>0</td>\n",
              "      <td>0</td>\n",
              "      <td>3</td>\n",
              "      <td>11</td>\n",
              "      <td>0</td>\n",
              "    </tr>\n",
              "    <tr>\n",
              "      <th>2239</th>\n",
              "      <td>9405</td>\n",
              "      <td>1954</td>\n",
              "      <td>PhD</td>\n",
              "      <td>Married</td>\n",
              "      <td>52869.0</td>\n",
              "      <td>1</td>\n",
              "      <td>1</td>\n",
              "      <td>2012-10-15</td>\n",
              "      <td>40</td>\n",
              "      <td>84</td>\n",
              "      <td>...</td>\n",
              "      <td>7</td>\n",
              "      <td>0</td>\n",
              "      <td>0</td>\n",
              "      <td>0</td>\n",
              "      <td>0</td>\n",
              "      <td>0</td>\n",
              "      <td>0</td>\n",
              "      <td>3</td>\n",
              "      <td>11</td>\n",
              "      <td>1</td>\n",
              "    </tr>\n",
              "  </tbody>\n",
              "</table>\n",
              "<p>5 rows × 29 columns</p>\n",
              "</div>\n",
              "      <button class=\"colab-df-convert\" onclick=\"convertToInteractive('df-fef20f83-c51c-4392-89e8-f26d26afe4cd')\"\n",
              "              title=\"Convert this dataframe to an interactive table.\"\n",
              "              style=\"display:none;\">\n",
              "        \n",
              "  <svg xmlns=\"http://www.w3.org/2000/svg\" height=\"24px\"viewBox=\"0 0 24 24\"\n",
              "       width=\"24px\">\n",
              "    <path d=\"M0 0h24v24H0V0z\" fill=\"none\"/>\n",
              "    <path d=\"M18.56 5.44l.94 2.06.94-2.06 2.06-.94-2.06-.94-.94-2.06-.94 2.06-2.06.94zm-11 1L8.5 8.5l.94-2.06 2.06-.94-2.06-.94L8.5 2.5l-.94 2.06-2.06.94zm10 10l.94 2.06.94-2.06 2.06-.94-2.06-.94-.94-2.06-.94 2.06-2.06.94z\"/><path d=\"M17.41 7.96l-1.37-1.37c-.4-.4-.92-.59-1.43-.59-.52 0-1.04.2-1.43.59L10.3 9.45l-7.72 7.72c-.78.78-.78 2.05 0 2.83L4 21.41c.39.39.9.59 1.41.59.51 0 1.02-.2 1.41-.59l7.78-7.78 2.81-2.81c.8-.78.8-2.07 0-2.86zM5.41 20L4 18.59l7.72-7.72 1.47 1.35L5.41 20z\"/>\n",
              "  </svg>\n",
              "      </button>\n",
              "      \n",
              "  <style>\n",
              "    .colab-df-container {\n",
              "      display:flex;\n",
              "      flex-wrap:wrap;\n",
              "      gap: 12px;\n",
              "    }\n",
              "\n",
              "    .colab-df-convert {\n",
              "      background-color: #E8F0FE;\n",
              "      border: none;\n",
              "      border-radius: 50%;\n",
              "      cursor: pointer;\n",
              "      display: none;\n",
              "      fill: #1967D2;\n",
              "      height: 32px;\n",
              "      padding: 0 0 0 0;\n",
              "      width: 32px;\n",
              "    }\n",
              "\n",
              "    .colab-df-convert:hover {\n",
              "      background-color: #E2EBFA;\n",
              "      box-shadow: 0px 1px 2px rgba(60, 64, 67, 0.3), 0px 1px 3px 1px rgba(60, 64, 67, 0.15);\n",
              "      fill: #174EA6;\n",
              "    }\n",
              "\n",
              "    [theme=dark] .colab-df-convert {\n",
              "      background-color: #3B4455;\n",
              "      fill: #D2E3FC;\n",
              "    }\n",
              "\n",
              "    [theme=dark] .colab-df-convert:hover {\n",
              "      background-color: #434B5C;\n",
              "      box-shadow: 0px 1px 3px 1px rgba(0, 0, 0, 0.15);\n",
              "      filter: drop-shadow(0px 1px 2px rgba(0, 0, 0, 0.3));\n",
              "      fill: #FFFFFF;\n",
              "    }\n",
              "  </style>\n",
              "\n",
              "      <script>\n",
              "        const buttonEl =\n",
              "          document.querySelector('#df-fef20f83-c51c-4392-89e8-f26d26afe4cd button.colab-df-convert');\n",
              "        buttonEl.style.display =\n",
              "          google.colab.kernel.accessAllowed ? 'block' : 'none';\n",
              "\n",
              "        async function convertToInteractive(key) {\n",
              "          const element = document.querySelector('#df-fef20f83-c51c-4392-89e8-f26d26afe4cd');\n",
              "          const dataTable =\n",
              "            await google.colab.kernel.invokeFunction('convertToInteractive',\n",
              "                                                     [key], {});\n",
              "          if (!dataTable) return;\n",
              "\n",
              "          const docLinkHtml = 'Like what you see? Visit the ' +\n",
              "            '<a target=\"_blank\" href=https://colab.research.google.com/notebooks/data_table.ipynb>data table notebook</a>'\n",
              "            + ' to learn more about interactive tables.';\n",
              "          element.innerHTML = '';\n",
              "          dataTable['output_type'] = 'display_data';\n",
              "          await google.colab.output.renderOutput(dataTable, element);\n",
              "          const docLink = document.createElement('div');\n",
              "          docLink.innerHTML = docLinkHtml;\n",
              "          element.appendChild(docLink);\n",
              "        }\n",
              "      </script>\n",
              "    </div>\n",
              "  </div>\n",
              "  "
            ]
          },
          "metadata": {},
          "execution_count": 5
        }
      ]
    },
    {
      "cell_type": "code",
      "source": [
        "# Checking the shape of the dataset\n",
        "data.shape"
      ],
      "metadata": {
        "colab": {
          "base_uri": "https://localhost:8080/"
        },
        "id": "msdmzCWSK8P_",
        "outputId": "e6111a37-10ff-4277-a383-31eb1bf6add1"
      },
      "execution_count": 61,
      "outputs": [
        {
          "output_type": "execute_result",
          "data": {
            "text/plain": [
              "(2240, 29)"
            ]
          },
          "metadata": {},
          "execution_count": 61
        }
      ]
    },
    {
      "cell_type": "code",
      "source": [
        "data.columns"
      ],
      "metadata": {
        "colab": {
          "base_uri": "https://localhost:8080/"
        },
        "id": "2IvAUPLtLAW3",
        "outputId": "4bd82ec9-00a4-497a-e003-f0d80edb218d"
      },
      "execution_count": 7,
      "outputs": [
        {
          "output_type": "execute_result",
          "data": {
            "text/plain": [
              "Index(['ID', 'Year_Birth', 'Education', 'Marital_Status', 'Income', 'Kidhome',\n",
              "       'Teenhome', 'Dt_Customer', 'Recency', 'MntWines', 'MntFruits',\n",
              "       'MntMeatProducts', 'MntFishProducts', 'MntSweetProducts',\n",
              "       'MntGoldProds', 'NumDealsPurchases', 'NumWebPurchases',\n",
              "       'NumCatalogPurchases', 'NumStorePurchases', 'NumWebVisitsMonth',\n",
              "       'AcceptedCmp3', 'AcceptedCmp4', 'AcceptedCmp5', 'AcceptedCmp1',\n",
              "       'AcceptedCmp2', 'Complain', 'Z_CostContact', 'Z_Revenue', 'Response'],\n",
              "      dtype='object')"
            ]
          },
          "metadata": {},
          "execution_count": 7
        }
      ]
    },
    {
      "cell_type": "code",
      "source": [
        "data.duplicated().sum()"
      ],
      "metadata": {
        "colab": {
          "base_uri": "https://localhost:8080/"
        },
        "id": "_PgGaqXjLG3r",
        "outputId": "7bd54f2a-5250-465b-bac6-8167a7f59b22"
      },
      "execution_count": 8,
      "outputs": [
        {
          "output_type": "execute_result",
          "data": {
            "text/plain": [
              "0"
            ]
          },
          "metadata": {},
          "execution_count": 8
        }
      ]
    },
    {
      "cell_type": "code",
      "source": [
        "data.isnull().sum()"
      ],
      "metadata": {
        "colab": {
          "base_uri": "https://localhost:8080/"
        },
        "id": "-UJo3iGfLL_2",
        "outputId": "7c34b175-b57a-4254-dc21-d3ca8a97d0e6"
      },
      "execution_count": 9,
      "outputs": [
        {
          "output_type": "execute_result",
          "data": {
            "text/plain": [
              "ID                      0\n",
              "Year_Birth              0\n",
              "Education               0\n",
              "Marital_Status          0\n",
              "Income                 24\n",
              "Kidhome                 0\n",
              "Teenhome                0\n",
              "Dt_Customer             0\n",
              "Recency                 0\n",
              "MntWines                0\n",
              "MntFruits               0\n",
              "MntMeatProducts         0\n",
              "MntFishProducts         0\n",
              "MntSweetProducts        0\n",
              "MntGoldProds            0\n",
              "NumDealsPurchases       0\n",
              "NumWebPurchases         0\n",
              "NumCatalogPurchases     0\n",
              "NumStorePurchases       0\n",
              "NumWebVisitsMonth       0\n",
              "AcceptedCmp3            0\n",
              "AcceptedCmp4            0\n",
              "AcceptedCmp5            0\n",
              "AcceptedCmp1            0\n",
              "AcceptedCmp2            0\n",
              "Complain                0\n",
              "Z_CostContact           0\n",
              "Z_Revenue               0\n",
              "Response                0\n",
              "dtype: int64"
            ]
          },
          "metadata": {},
          "execution_count": 9
        }
      ]
    },
    {
      "cell_type": "code",
      "source": [
        "# Finding the basic information regarding dataset\n",
        "data.info()"
      ],
      "metadata": {
        "colab": {
          "base_uri": "https://localhost:8080/"
        },
        "id": "Nv-e4mljLQe6",
        "outputId": "b2677176-d1be-484e-b753-2b6ac2f040e1"
      },
      "execution_count": 62,
      "outputs": [
        {
          "output_type": "stream",
          "name": "stdout",
          "text": [
            "<class 'pandas.core.frame.DataFrame'>\n",
            "RangeIndex: 2240 entries, 0 to 2239\n",
            "Data columns (total 29 columns):\n",
            " #   Column               Non-Null Count  Dtype         \n",
            "---  ------               --------------  -----         \n",
            " 0   ID                   2240 non-null   int64         \n",
            " 1   Year_Birth           2240 non-null   int64         \n",
            " 2   Education            2240 non-null   object        \n",
            " 3   Marital_Status       2240 non-null   object        \n",
            " 4   Income               2216 non-null   float64       \n",
            " 5   Kidhome              2240 non-null   int64         \n",
            " 6   Teenhome             2240 non-null   int64         \n",
            " 7   Dt_Customer          2240 non-null   datetime64[ns]\n",
            " 8   Recency              2240 non-null   int64         \n",
            " 9   MntWines             2240 non-null   int64         \n",
            " 10  MntFruits            2240 non-null   int64         \n",
            " 11  MntMeatProducts      2240 non-null   int64         \n",
            " 12  MntFishProducts      2240 non-null   int64         \n",
            " 13  MntSweetProducts     2240 non-null   int64         \n",
            " 14  MntGoldProds         2240 non-null   int64         \n",
            " 15  NumDealsPurchases    2240 non-null   int64         \n",
            " 16  NumWebPurchases      2240 non-null   int64         \n",
            " 17  NumCatalogPurchases  2240 non-null   int64         \n",
            " 18  NumStorePurchases    2240 non-null   int64         \n",
            " 19  NumWebVisitsMonth    2240 non-null   int64         \n",
            " 20  AcceptedCmp3         2240 non-null   int64         \n",
            " 21  AcceptedCmp4         2240 non-null   int64         \n",
            " 22  AcceptedCmp5         2240 non-null   int64         \n",
            " 23  AcceptedCmp1         2240 non-null   int64         \n",
            " 24  AcceptedCmp2         2240 non-null   int64         \n",
            " 25  Complain             2240 non-null   int64         \n",
            " 26  Z_CostContact        2240 non-null   int64         \n",
            " 27  Z_Revenue            2240 non-null   int64         \n",
            " 28  Response             2240 non-null   int64         \n",
            "dtypes: datetime64[ns](1), float64(1), int64(25), object(2)\n",
            "memory usage: 507.6+ KB\n"
          ]
        }
      ]
    },
    {
      "cell_type": "code",
      "source": [
        "data.describe()"
      ],
      "metadata": {
        "colab": {
          "base_uri": "https://localhost:8080/",
          "height": 393
        },
        "id": "ZdVIYU7LLUkl",
        "outputId": "dacb3faf-25bd-4b21-f5a1-48c966a9e001"
      },
      "execution_count": 11,
      "outputs": [
        {
          "output_type": "execute_result",
          "data": {
            "text/plain": [
              "                 ID   Year_Birth         Income      Kidhome     Teenhome  \\\n",
              "count   2240.000000  2240.000000    2216.000000  2240.000000  2240.000000   \n",
              "mean    5592.159821  1968.805804   52247.251354     0.444196     0.506250   \n",
              "std     3246.662198    11.984069   25173.076661     0.538398     0.544538   \n",
              "min        0.000000  1893.000000    1730.000000     0.000000     0.000000   \n",
              "25%     2828.250000  1959.000000   35303.000000     0.000000     0.000000   \n",
              "50%     5458.500000  1970.000000   51381.500000     0.000000     0.000000   \n",
              "75%     8427.750000  1977.000000   68522.000000     1.000000     1.000000   \n",
              "max    11191.000000  1996.000000  666666.000000     2.000000     2.000000   \n",
              "\n",
              "           Recency     MntWines    MntFruits  MntMeatProducts  \\\n",
              "count  2240.000000  2240.000000  2240.000000      2240.000000   \n",
              "mean     49.109375   303.935714    26.302232       166.950000   \n",
              "std      28.962453   336.597393    39.773434       225.715373   \n",
              "min       0.000000     0.000000     0.000000         0.000000   \n",
              "25%      24.000000    23.750000     1.000000        16.000000   \n",
              "50%      49.000000   173.500000     8.000000        67.000000   \n",
              "75%      74.000000   504.250000    33.000000       232.000000   \n",
              "max      99.000000  1493.000000   199.000000      1725.000000   \n",
              "\n",
              "       MntFishProducts  ...  NumWebVisitsMonth  AcceptedCmp3  AcceptedCmp4  \\\n",
              "count      2240.000000  ...        2240.000000   2240.000000   2240.000000   \n",
              "mean         37.525446  ...           5.316518      0.072768      0.074554   \n",
              "std          54.628979  ...           2.426645      0.259813      0.262728   \n",
              "min           0.000000  ...           0.000000      0.000000      0.000000   \n",
              "25%           3.000000  ...           3.000000      0.000000      0.000000   \n",
              "50%          12.000000  ...           6.000000      0.000000      0.000000   \n",
              "75%          50.000000  ...           7.000000      0.000000      0.000000   \n",
              "max         259.000000  ...          20.000000      1.000000      1.000000   \n",
              "\n",
              "       AcceptedCmp5  AcceptedCmp1  AcceptedCmp2     Complain  Z_CostContact  \\\n",
              "count   2240.000000   2240.000000   2240.000000  2240.000000         2240.0   \n",
              "mean       0.072768      0.064286      0.013393     0.009375            3.0   \n",
              "std        0.259813      0.245316      0.114976     0.096391            0.0   \n",
              "min        0.000000      0.000000      0.000000     0.000000            3.0   \n",
              "25%        0.000000      0.000000      0.000000     0.000000            3.0   \n",
              "50%        0.000000      0.000000      0.000000     0.000000            3.0   \n",
              "75%        0.000000      0.000000      0.000000     0.000000            3.0   \n",
              "max        1.000000      1.000000      1.000000     1.000000            3.0   \n",
              "\n",
              "       Z_Revenue     Response  \n",
              "count     2240.0  2240.000000  \n",
              "mean        11.0     0.149107  \n",
              "std          0.0     0.356274  \n",
              "min         11.0     0.000000  \n",
              "25%         11.0     0.000000  \n",
              "50%         11.0     0.000000  \n",
              "75%         11.0     0.000000  \n",
              "max         11.0     1.000000  \n",
              "\n",
              "[8 rows x 26 columns]"
            ],
            "text/html": [
              "\n",
              "  <div id=\"df-e764d953-f1ac-4bc9-b06e-3becb5926429\">\n",
              "    <div class=\"colab-df-container\">\n",
              "      <div>\n",
              "<style scoped>\n",
              "    .dataframe tbody tr th:only-of-type {\n",
              "        vertical-align: middle;\n",
              "    }\n",
              "\n",
              "    .dataframe tbody tr th {\n",
              "        vertical-align: top;\n",
              "    }\n",
              "\n",
              "    .dataframe thead th {\n",
              "        text-align: right;\n",
              "    }\n",
              "</style>\n",
              "<table border=\"1\" class=\"dataframe\">\n",
              "  <thead>\n",
              "    <tr style=\"text-align: right;\">\n",
              "      <th></th>\n",
              "      <th>ID</th>\n",
              "      <th>Year_Birth</th>\n",
              "      <th>Income</th>\n",
              "      <th>Kidhome</th>\n",
              "      <th>Teenhome</th>\n",
              "      <th>Recency</th>\n",
              "      <th>MntWines</th>\n",
              "      <th>MntFruits</th>\n",
              "      <th>MntMeatProducts</th>\n",
              "      <th>MntFishProducts</th>\n",
              "      <th>...</th>\n",
              "      <th>NumWebVisitsMonth</th>\n",
              "      <th>AcceptedCmp3</th>\n",
              "      <th>AcceptedCmp4</th>\n",
              "      <th>AcceptedCmp5</th>\n",
              "      <th>AcceptedCmp1</th>\n",
              "      <th>AcceptedCmp2</th>\n",
              "      <th>Complain</th>\n",
              "      <th>Z_CostContact</th>\n",
              "      <th>Z_Revenue</th>\n",
              "      <th>Response</th>\n",
              "    </tr>\n",
              "  </thead>\n",
              "  <tbody>\n",
              "    <tr>\n",
              "      <th>count</th>\n",
              "      <td>2240.000000</td>\n",
              "      <td>2240.000000</td>\n",
              "      <td>2216.000000</td>\n",
              "      <td>2240.000000</td>\n",
              "      <td>2240.000000</td>\n",
              "      <td>2240.000000</td>\n",
              "      <td>2240.000000</td>\n",
              "      <td>2240.000000</td>\n",
              "      <td>2240.000000</td>\n",
              "      <td>2240.000000</td>\n",
              "      <td>...</td>\n",
              "      <td>2240.000000</td>\n",
              "      <td>2240.000000</td>\n",
              "      <td>2240.000000</td>\n",
              "      <td>2240.000000</td>\n",
              "      <td>2240.000000</td>\n",
              "      <td>2240.000000</td>\n",
              "      <td>2240.000000</td>\n",
              "      <td>2240.0</td>\n",
              "      <td>2240.0</td>\n",
              "      <td>2240.000000</td>\n",
              "    </tr>\n",
              "    <tr>\n",
              "      <th>mean</th>\n",
              "      <td>5592.159821</td>\n",
              "      <td>1968.805804</td>\n",
              "      <td>52247.251354</td>\n",
              "      <td>0.444196</td>\n",
              "      <td>0.506250</td>\n",
              "      <td>49.109375</td>\n",
              "      <td>303.935714</td>\n",
              "      <td>26.302232</td>\n",
              "      <td>166.950000</td>\n",
              "      <td>37.525446</td>\n",
              "      <td>...</td>\n",
              "      <td>5.316518</td>\n",
              "      <td>0.072768</td>\n",
              "      <td>0.074554</td>\n",
              "      <td>0.072768</td>\n",
              "      <td>0.064286</td>\n",
              "      <td>0.013393</td>\n",
              "      <td>0.009375</td>\n",
              "      <td>3.0</td>\n",
              "      <td>11.0</td>\n",
              "      <td>0.149107</td>\n",
              "    </tr>\n",
              "    <tr>\n",
              "      <th>std</th>\n",
              "      <td>3246.662198</td>\n",
              "      <td>11.984069</td>\n",
              "      <td>25173.076661</td>\n",
              "      <td>0.538398</td>\n",
              "      <td>0.544538</td>\n",
              "      <td>28.962453</td>\n",
              "      <td>336.597393</td>\n",
              "      <td>39.773434</td>\n",
              "      <td>225.715373</td>\n",
              "      <td>54.628979</td>\n",
              "      <td>...</td>\n",
              "      <td>2.426645</td>\n",
              "      <td>0.259813</td>\n",
              "      <td>0.262728</td>\n",
              "      <td>0.259813</td>\n",
              "      <td>0.245316</td>\n",
              "      <td>0.114976</td>\n",
              "      <td>0.096391</td>\n",
              "      <td>0.0</td>\n",
              "      <td>0.0</td>\n",
              "      <td>0.356274</td>\n",
              "    </tr>\n",
              "    <tr>\n",
              "      <th>min</th>\n",
              "      <td>0.000000</td>\n",
              "      <td>1893.000000</td>\n",
              "      <td>1730.000000</td>\n",
              "      <td>0.000000</td>\n",
              "      <td>0.000000</td>\n",
              "      <td>0.000000</td>\n",
              "      <td>0.000000</td>\n",
              "      <td>0.000000</td>\n",
              "      <td>0.000000</td>\n",
              "      <td>0.000000</td>\n",
              "      <td>...</td>\n",
              "      <td>0.000000</td>\n",
              "      <td>0.000000</td>\n",
              "      <td>0.000000</td>\n",
              "      <td>0.000000</td>\n",
              "      <td>0.000000</td>\n",
              "      <td>0.000000</td>\n",
              "      <td>0.000000</td>\n",
              "      <td>3.0</td>\n",
              "      <td>11.0</td>\n",
              "      <td>0.000000</td>\n",
              "    </tr>\n",
              "    <tr>\n",
              "      <th>25%</th>\n",
              "      <td>2828.250000</td>\n",
              "      <td>1959.000000</td>\n",
              "      <td>35303.000000</td>\n",
              "      <td>0.000000</td>\n",
              "      <td>0.000000</td>\n",
              "      <td>24.000000</td>\n",
              "      <td>23.750000</td>\n",
              "      <td>1.000000</td>\n",
              "      <td>16.000000</td>\n",
              "      <td>3.000000</td>\n",
              "      <td>...</td>\n",
              "      <td>3.000000</td>\n",
              "      <td>0.000000</td>\n",
              "      <td>0.000000</td>\n",
              "      <td>0.000000</td>\n",
              "      <td>0.000000</td>\n",
              "      <td>0.000000</td>\n",
              "      <td>0.000000</td>\n",
              "      <td>3.0</td>\n",
              "      <td>11.0</td>\n",
              "      <td>0.000000</td>\n",
              "    </tr>\n",
              "    <tr>\n",
              "      <th>50%</th>\n",
              "      <td>5458.500000</td>\n",
              "      <td>1970.000000</td>\n",
              "      <td>51381.500000</td>\n",
              "      <td>0.000000</td>\n",
              "      <td>0.000000</td>\n",
              "      <td>49.000000</td>\n",
              "      <td>173.500000</td>\n",
              "      <td>8.000000</td>\n",
              "      <td>67.000000</td>\n",
              "      <td>12.000000</td>\n",
              "      <td>...</td>\n",
              "      <td>6.000000</td>\n",
              "      <td>0.000000</td>\n",
              "      <td>0.000000</td>\n",
              "      <td>0.000000</td>\n",
              "      <td>0.000000</td>\n",
              "      <td>0.000000</td>\n",
              "      <td>0.000000</td>\n",
              "      <td>3.0</td>\n",
              "      <td>11.0</td>\n",
              "      <td>0.000000</td>\n",
              "    </tr>\n",
              "    <tr>\n",
              "      <th>75%</th>\n",
              "      <td>8427.750000</td>\n",
              "      <td>1977.000000</td>\n",
              "      <td>68522.000000</td>\n",
              "      <td>1.000000</td>\n",
              "      <td>1.000000</td>\n",
              "      <td>74.000000</td>\n",
              "      <td>504.250000</td>\n",
              "      <td>33.000000</td>\n",
              "      <td>232.000000</td>\n",
              "      <td>50.000000</td>\n",
              "      <td>...</td>\n",
              "      <td>7.000000</td>\n",
              "      <td>0.000000</td>\n",
              "      <td>0.000000</td>\n",
              "      <td>0.000000</td>\n",
              "      <td>0.000000</td>\n",
              "      <td>0.000000</td>\n",
              "      <td>0.000000</td>\n",
              "      <td>3.0</td>\n",
              "      <td>11.0</td>\n",
              "      <td>0.000000</td>\n",
              "    </tr>\n",
              "    <tr>\n",
              "      <th>max</th>\n",
              "      <td>11191.000000</td>\n",
              "      <td>1996.000000</td>\n",
              "      <td>666666.000000</td>\n",
              "      <td>2.000000</td>\n",
              "      <td>2.000000</td>\n",
              "      <td>99.000000</td>\n",
              "      <td>1493.000000</td>\n",
              "      <td>199.000000</td>\n",
              "      <td>1725.000000</td>\n",
              "      <td>259.000000</td>\n",
              "      <td>...</td>\n",
              "      <td>20.000000</td>\n",
              "      <td>1.000000</td>\n",
              "      <td>1.000000</td>\n",
              "      <td>1.000000</td>\n",
              "      <td>1.000000</td>\n",
              "      <td>1.000000</td>\n",
              "      <td>1.000000</td>\n",
              "      <td>3.0</td>\n",
              "      <td>11.0</td>\n",
              "      <td>1.000000</td>\n",
              "    </tr>\n",
              "  </tbody>\n",
              "</table>\n",
              "<p>8 rows × 26 columns</p>\n",
              "</div>\n",
              "      <button class=\"colab-df-convert\" onclick=\"convertToInteractive('df-e764d953-f1ac-4bc9-b06e-3becb5926429')\"\n",
              "              title=\"Convert this dataframe to an interactive table.\"\n",
              "              style=\"display:none;\">\n",
              "        \n",
              "  <svg xmlns=\"http://www.w3.org/2000/svg\" height=\"24px\"viewBox=\"0 0 24 24\"\n",
              "       width=\"24px\">\n",
              "    <path d=\"M0 0h24v24H0V0z\" fill=\"none\"/>\n",
              "    <path d=\"M18.56 5.44l.94 2.06.94-2.06 2.06-.94-2.06-.94-.94-2.06-.94 2.06-2.06.94zm-11 1L8.5 8.5l.94-2.06 2.06-.94-2.06-.94L8.5 2.5l-.94 2.06-2.06.94zm10 10l.94 2.06.94-2.06 2.06-.94-2.06-.94-.94-2.06-.94 2.06-2.06.94z\"/><path d=\"M17.41 7.96l-1.37-1.37c-.4-.4-.92-.59-1.43-.59-.52 0-1.04.2-1.43.59L10.3 9.45l-7.72 7.72c-.78.78-.78 2.05 0 2.83L4 21.41c.39.39.9.59 1.41.59.51 0 1.02-.2 1.41-.59l7.78-7.78 2.81-2.81c.8-.78.8-2.07 0-2.86zM5.41 20L4 18.59l7.72-7.72 1.47 1.35L5.41 20z\"/>\n",
              "  </svg>\n",
              "      </button>\n",
              "      \n",
              "  <style>\n",
              "    .colab-df-container {\n",
              "      display:flex;\n",
              "      flex-wrap:wrap;\n",
              "      gap: 12px;\n",
              "    }\n",
              "\n",
              "    .colab-df-convert {\n",
              "      background-color: #E8F0FE;\n",
              "      border: none;\n",
              "      border-radius: 50%;\n",
              "      cursor: pointer;\n",
              "      display: none;\n",
              "      fill: #1967D2;\n",
              "      height: 32px;\n",
              "      padding: 0 0 0 0;\n",
              "      width: 32px;\n",
              "    }\n",
              "\n",
              "    .colab-df-convert:hover {\n",
              "      background-color: #E2EBFA;\n",
              "      box-shadow: 0px 1px 2px rgba(60, 64, 67, 0.3), 0px 1px 3px 1px rgba(60, 64, 67, 0.15);\n",
              "      fill: #174EA6;\n",
              "    }\n",
              "\n",
              "    [theme=dark] .colab-df-convert {\n",
              "      background-color: #3B4455;\n",
              "      fill: #D2E3FC;\n",
              "    }\n",
              "\n",
              "    [theme=dark] .colab-df-convert:hover {\n",
              "      background-color: #434B5C;\n",
              "      box-shadow: 0px 1px 3px 1px rgba(0, 0, 0, 0.15);\n",
              "      filter: drop-shadow(0px 1px 2px rgba(0, 0, 0, 0.3));\n",
              "      fill: #FFFFFF;\n",
              "    }\n",
              "  </style>\n",
              "\n",
              "      <script>\n",
              "        const buttonEl =\n",
              "          document.querySelector('#df-e764d953-f1ac-4bc9-b06e-3becb5926429 button.colab-df-convert');\n",
              "        buttonEl.style.display =\n",
              "          google.colab.kernel.accessAllowed ? 'block' : 'none';\n",
              "\n",
              "        async function convertToInteractive(key) {\n",
              "          const element = document.querySelector('#df-e764d953-f1ac-4bc9-b06e-3becb5926429');\n",
              "          const dataTable =\n",
              "            await google.colab.kernel.invokeFunction('convertToInteractive',\n",
              "                                                     [key], {});\n",
              "          if (!dataTable) return;\n",
              "\n",
              "          const docLinkHtml = 'Like what you see? Visit the ' +\n",
              "            '<a target=\"_blank\" href=https://colab.research.google.com/notebooks/data_table.ipynb>data table notebook</a>'\n",
              "            + ' to learn more about interactive tables.';\n",
              "          element.innerHTML = '';\n",
              "          dataTable['output_type'] = 'display_data';\n",
              "          await google.colab.output.renderOutput(dataTable, element);\n",
              "          const docLink = document.createElement('div');\n",
              "          docLink.innerHTML = docLinkHtml;\n",
              "          element.appendChild(docLink);\n",
              "        }\n",
              "      </script>\n",
              "    </div>\n",
              "  </div>\n",
              "  "
            ]
          },
          "metadata": {},
          "execution_count": 11
        }
      ]
    },
    {
      "cell_type": "code",
      "source": [
        "# Finding the number of unique values present in each column\n",
        "\n",
        "data.nunique()"
      ],
      "metadata": {
        "colab": {
          "base_uri": "https://localhost:8080/"
        },
        "id": "ojm9YzPOLYow",
        "outputId": "3e9c6171-1a23-4087-9885-b7055960c8f0"
      },
      "execution_count": 63,
      "outputs": [
        {
          "output_type": "execute_result",
          "data": {
            "text/plain": [
              "ID                     2240\n",
              "Year_Birth               59\n",
              "Education                 5\n",
              "Marital_Status            8\n",
              "Income                 1974\n",
              "Kidhome                   3\n",
              "Teenhome                  3\n",
              "Dt_Customer             663\n",
              "Recency                 100\n",
              "MntWines                776\n",
              "MntFruits               158\n",
              "MntMeatProducts         558\n",
              "MntFishProducts         182\n",
              "MntSweetProducts        177\n",
              "MntGoldProds            213\n",
              "NumDealsPurchases        15\n",
              "NumWebPurchases          15\n",
              "NumCatalogPurchases      14\n",
              "NumStorePurchases        14\n",
              "NumWebVisitsMonth        16\n",
              "AcceptedCmp3              2\n",
              "AcceptedCmp4              2\n",
              "AcceptedCmp5              2\n",
              "AcceptedCmp1              2\n",
              "AcceptedCmp2              2\n",
              "Complain                  2\n",
              "Z_CostContact             1\n",
              "Z_Revenue                 1\n",
              "Response                  2\n",
              "dtype: int64"
            ]
          },
          "metadata": {},
          "execution_count": 63
        }
      ]
    },
    {
      "cell_type": "code",
      "source": [
        "# Checking if any NaN is present in column or not\n",
        "\n",
        "data.isna().any()"
      ],
      "metadata": {
        "colab": {
          "base_uri": "https://localhost:8080/"
        },
        "id": "EV43DAlALlLc",
        "outputId": "af9755af-9a81-44da-c28e-7c0d8ee2ec4b"
      },
      "execution_count": 13,
      "outputs": [
        {
          "output_type": "execute_result",
          "data": {
            "text/plain": [
              "ID                     False\n",
              "Year_Birth             False\n",
              "Education              False\n",
              "Marital_Status         False\n",
              "Income                  True\n",
              "Kidhome                False\n",
              "Teenhome               False\n",
              "Dt_Customer            False\n",
              "Recency                False\n",
              "MntWines               False\n",
              "MntFruits              False\n",
              "MntMeatProducts        False\n",
              "MntFishProducts        False\n",
              "MntSweetProducts       False\n",
              "MntGoldProds           False\n",
              "NumDealsPurchases      False\n",
              "NumWebPurchases        False\n",
              "NumCatalogPurchases    False\n",
              "NumStorePurchases      False\n",
              "NumWebVisitsMonth      False\n",
              "AcceptedCmp3           False\n",
              "AcceptedCmp4           False\n",
              "AcceptedCmp5           False\n",
              "AcceptedCmp1           False\n",
              "AcceptedCmp2           False\n",
              "Complain               False\n",
              "Z_CostContact          False\n",
              "Z_Revenue              False\n",
              "Response               False\n",
              "dtype: bool"
            ]
          },
          "metadata": {},
          "execution_count": 13
        }
      ]
    },
    {
      "cell_type": "code",
      "source": [
        "# Checking for null value using heatmap\n",
        "\n",
        "sns.heatmap(data.isnull())"
      ],
      "metadata": {
        "colab": {
          "base_uri": "https://localhost:8080/",
          "height": 378
        },
        "id": "58XaM9YHL0Fg",
        "outputId": "0edd2bfc-12ac-437a-fb31-2dcfc278b80d"
      },
      "execution_count": 15,
      "outputs": [
        {
          "output_type": "execute_result",
          "data": {
            "text/plain": [
              "<Axes: >"
            ]
          },
          "metadata": {},
          "execution_count": 15
        },
        {
          "output_type": "display_data",
          "data": {
            "text/plain": [
              "<Figure size 432x288 with 2 Axes>"
            ],
            "image/png": "[encoded data removed]"
          },
          "metadata": {
            "needs_background": "light"
          }
        }
      ]
    },
    {
      "cell_type": "code",
      "source": [
        "# Dropping columns because they will not contribute anything in model building\n",
        "\n",
        "data=data.drop(columns=[\"Z_CostContact\", \"Z_Revenue\"],axis=1)\n",
        "data.head()"
      ],
      "metadata": {
        "colab": {
          "base_uri": "https://localhost:8080/",
          "height": 299
        },
        "id": "_5HxJpNkLrDW",
        "outputId": "a3285c0c-4246-4c46-c356-1c75caeaa83d"
      },
      "execution_count": 14,
      "outputs": [
        {
          "output_type": "execute_result",
          "data": {
            "text/plain": [
              "     ID  Year_Birth   Education Marital_Status   Income  Kidhome  Teenhome  \\\n",
              "0  5524        1957  Graduation         Single  58138.0        0         0   \n",
              "1  2174        1954  Graduation         Single  46344.0        1         1   \n",
              "2  4141        1965  Graduation       Together  71613.0        0         0   \n",
              "3  6182        1984  Graduation       Together  26646.0        1         0   \n",
              "4  5324        1981         PhD        Married  58293.0        1         0   \n",
              "\n",
              "  Dt_Customer  Recency  MntWines  ...  NumCatalogPurchases  NumStorePurchases  \\\n",
              "0  2012-09-04       58       635  ...                   10                  4   \n",
              "1  2014-03-08       38        11  ...                    1                  2   \n",
              "2  2013-08-21       26       426  ...                    2                 10   \n",
              "3  2014-02-10       26        11  ...                    0                  4   \n",
              "4  2014-01-19       94       173  ...                    3                  6   \n",
              "\n",
              "   NumWebVisitsMonth  AcceptedCmp3  AcceptedCmp4  AcceptedCmp5  AcceptedCmp1  \\\n",
              "0                  7             0             0             0             0   \n",
              "1                  5             0             0             0             0   \n",
              "2                  4             0             0             0             0   \n",
              "3                  6             0             0             0             0   \n",
              "4                  5             0             0             0             0   \n",
              "\n",
              "   AcceptedCmp2  Complain  Response  \n",
              "0             0         0         1  \n",
              "1             0         0         0  \n",
              "2             0         0         0  \n",
              "3             0         0         0  \n",
              "4             0         0         0  \n",
              "\n",
              "[5 rows x 27 columns]"
            ],
            "text/html": [
              "\n",
              "  <div id=\"df-42b767db-5cea-49ce-ba60-914aa230cc97\">\n",
              "    <div class=\"colab-df-container\">\n",
              "      <div>\n",
              "<style scoped>\n",
              "    .dataframe tbody tr th:only-of-type {\n",
              "        vertical-align: middle;\n",
              "    }\n",
              "\n",
              "    .dataframe tbody tr th {\n",
              "        vertical-align: top;\n",
              "    }\n",
              "\n",
              "    .dataframe thead th {\n",
              "        text-align: right;\n",
              "    }\n",
              "</style>\n",
              "<table border=\"1\" class=\"dataframe\">\n",
              "  <thead>\n",
              "    <tr style=\"text-align: right;\">\n",
              "      <th></th>\n",
              "      <th>ID</th>\n",
              "      <th>Year_Birth</th>\n",
              "      <th>Education</th>\n",
              "      <th>Marital_Status</th>\n",
              "      <th>Income</th>\n",
              "      <th>Kidhome</th>\n",
              "      <th>Teenhome</th>\n",
              "      <th>Dt_Customer</th>\n",
              "      <th>Recency</th>\n",
              "      <th>MntWines</th>\n",
              "      <th>...</th>\n",
              "      <th>NumCatalogPurchases</th>\n",
              "      <th>NumStorePurchases</th>\n",
              "      <th>NumWebVisitsMonth</th>\n",
              "      <th>AcceptedCmp3</th>\n",
              "      <th>AcceptedCmp4</th>\n",
              "      <th>AcceptedCmp5</th>\n",
              "      <th>AcceptedCmp1</th>\n",
              "      <th>AcceptedCmp2</th>\n",
              "      <th>Complain</th>\n",
              "      <th>Response</th>\n",
              "    </tr>\n",
              "  </thead>\n",
              "  <tbody>\n",
              "    <tr>\n",
              "      <th>0</th>\n",
              "      <td>5524</td>\n",
              "      <td>1957</td>\n",
              "      <td>Graduation</td>\n",
              "      <td>Single</td>\n",
              "      <td>58138.0</td>\n",
              "      <td>0</td>\n",
              "      <td>0</td>\n",
              "      <td>2012-09-04</td>\n",
              "      <td>58</td>\n",
              "      <td>635</td>\n",
              "      <td>...</td>\n",
              "      <td>10</td>\n",
              "      <td>4</td>\n",
              "      <td>7</td>\n",
              "      <td>0</td>\n",
              "      <td>0</td>\n",
              "      <td>0</td>\n",
              "      <td>0</td>\n",
              "      <td>0</td>\n",
              "      <td>0</td>\n",
              "      <td>1</td>\n",
              "    </tr>\n",
              "    <tr>\n",
              "      <th>1</th>\n",
              "      <td>2174</td>\n",
              "      <td>1954</td>\n",
              "      <td>Graduation</td>\n",
              "      <td>Single</td>\n",
              "      <td>46344.0</td>\n",
              "      <td>1</td>\n",
              "      <td>1</td>\n",
              "      <td>2014-03-08</td>\n",
              "      <td>38</td>\n",
              "      <td>11</td>\n",
              "      <td>...</td>\n",
              "      <td>1</td>\n",
              "      <td>2</td>\n",
              "      <td>5</td>\n",
              "      <td>0</td>\n",
              "      <td>0</td>\n",
              "      <td>0</td>\n",
              "      <td>0</td>\n",
              "      <td>0</td>\n",
              "      <td>0</td>\n",
              "      <td>0</td>\n",
              "    </tr>\n",
              "    <tr>\n",
              "      <th>2</th>\n",
              "      <td>4141</td>\n",
              "      <td>1965</td>\n",
              "      <td>Graduation</td>\n",
              "      <td>Together</td>\n",
              "      <td>71613.0</td>\n",
              "      <td>0</td>\n",
              "      <td>0</td>\n",
              "      <td>2013-08-21</td>\n",
              "      <td>26</td>\n",
              "      <td>426</td>\n",
              "      <td>...</td>\n",
              "      <td>2</td>\n",
              "      <td>10</td>\n",
              "      <td>4</td>\n",
              "      <td>0</td>\n",
              "      <td>0</td>\n",
              "      <td>0</td>\n",
              "      <td>0</td>\n",
              "      <td>0</td>\n",
              "      <td>0</td>\n",
              "      <td>0</td>\n",
              "    </tr>\n",
              "    <tr>\n",
              "      <th>3</th>\n",
              "      <td>6182</td>\n",
              "      <td>1984</td>\n",
              "      <td>Graduation</td>\n",
              "      <td>Together</td>\n",
              "      <td>26646.0</td>\n",
              "      <td>1</td>\n",
              "      <td>0</td>\n",
              "      <td>2014-02-10</td>\n",
              "      <td>26</td>\n",
              "      <td>11</td>\n",
              "      <td>...</td>\n",
              "      <td>0</td>\n",
              "      <td>4</td>\n",
              "      <td>6</td>\n",
              "      <td>0</td>\n",
              "      <td>0</td>\n",
              "      <td>0</td>\n",
              "      <td>0</td>\n",
              "      <td>0</td>\n",
              "      <td>0</td>\n",
              "      <td>0</td>\n",
              "    </tr>\n",
              "    <tr>\n",
              "      <th>4</th>\n",
              "      <td>5324</td>\n",
              "      <td>1981</td>\n",
              "      <td>PhD</td>\n",
              "      <td>Married</td>\n",
              "      <td>58293.0</td>\n",
              "      <td>1</td>\n",
              "      <td>0</td>\n",
              "      <td>2014-01-19</td>\n",
              "      <td>94</td>\n",
              "      <td>173</td>\n",
              "      <td>...</td>\n",
              "      <td>3</td>\n",
              "      <td>6</td>\n",
              "      <td>5</td>\n",
              "      <td>0</td>\n",
              "      <td>0</td>\n",
              "      <td>0</td>\n",
              "      <td>0</td>\n",
              "      <td>0</td>\n",
              "      <td>0</td>\n",
              "      <td>0</td>\n",
              "    </tr>\n",
              "  </tbody>\n",
              "</table>\n",
              "<p>5 rows × 27 columns</p>\n",
              "</div>\n",
              "      <button class=\"colab-df-convert\" onclick=\"convertToInteractive('df-42b767db-5cea-49ce-ba60-914aa230cc97')\"\n",
              "              title=\"Convert this dataframe to an interactive table.\"\n",
              "              style=\"display:none;\">\n",
              "        \n",
              "  <svg xmlns=\"http://www.w3.org/2000/svg\" height=\"24px\"viewBox=\"0 0 24 24\"\n",
              "       width=\"24px\">\n",
              "    <path d=\"M0 0h24v24H0V0z\" fill=\"none\"/>\n",
              "    <path d=\"M18.56 5.44l.94 2.06.94-2.06 2.06-.94-2.06-.94-.94-2.06-.94 2.06-2.06.94zm-11 1L8.5 8.5l.94-2.06 2.06-.94-2.06-.94L8.5 2.5l-.94 2.06-2.06.94zm10 10l.94 2.06.94-2.06 2.06-.94-2.06-.94-.94-2.06-.94 2.06-2.06.94z\"/><path d=\"M17.41 7.96l-1.37-1.37c-.4-.4-.92-.59-1.43-.59-.52 0-1.04.2-1.43.59L10.3 9.45l-7.72 7.72c-.78.78-.78 2.05 0 2.83L4 21.41c.39.39.9.59 1.41.59.51 0 1.02-.2 1.41-.59l7.78-7.78 2.81-2.81c.8-.78.8-2.07 0-2.86zM5.41 20L4 18.59l7.72-7.72 1.47 1.35L5.41 20z\"/>\n",
              "  </svg>\n",
              "      </button>\n",
              "      \n",
              "  <style>\n",
              "    .colab-df-container {\n",
              "      display:flex;\n",
              "      flex-wrap:wrap;\n",
              "      gap: 12px;\n",
              "    }\n",
              "\n",
              "    .colab-df-convert {\n",
              "      background-color: #E8F0FE;\n",
              "      border: none;\n",
              "      border-radius: 50%;\n",
              "      cursor: pointer;\n",
              "      display: none;\n",
              "      fill: #1967D2;\n",
              "      height: 32px;\n",
              "      padding: 0 0 0 0;\n",
              "      width: 32px;\n",
              "    }\n",
              "\n",
              "    .colab-df-convert:hover {\n",
              "      background-color: #E2EBFA;\n",
              "      box-shadow: 0px 1px 2px rgba(60, 64, 67, 0.3), 0px 1px 3px 1px rgba(60, 64, 67, 0.15);\n",
              "      fill: #174EA6;\n",
              "    }\n",
              "\n",
              "    [theme=dark] .colab-df-convert {\n",
              "      background-color: #3B4455;\n",
              "      fill: #D2E3FC;\n",
              "    }\n",
              "\n",
              "    [theme=dark] .colab-df-convert:hover {\n",
              "      background-color: #434B5C;\n",
              "      box-shadow: 0px 1px 3px 1px rgba(0, 0, 0, 0.15);\n",
              "      filter: drop-shadow(0px 1px 2px rgba(0, 0, 0, 0.3));\n",
              "      fill: #FFFFFF;\n",
              "    }\n",
              "  </style>\n",
              "\n",
              "      <script>\n",
              "        const buttonEl =\n",
              "          document.querySelector('#df-42b767db-5cea-49ce-ba60-914aa230cc97 button.colab-df-convert');\n",
              "        buttonEl.style.display =\n",
              "          google.colab.kernel.accessAllowed ? 'block' : 'none';\n",
              "\n",
              "        async function convertToInteractive(key) {\n",
              "          const element = document.querySelector('#df-42b767db-5cea-49ce-ba60-914aa230cc97');\n",
              "          const dataTable =\n",
              "            await google.colab.kernel.invokeFunction('convertToInteractive',\n",
              "                                                     [key], {});\n",
              "          if (!dataTable) return;\n",
              "\n",
              "          const docLinkHtml = 'Like what you see? Visit the ' +\n",
              "            '<a target=\"_blank\" href=https://colab.research.google.com/notebooks/data_table.ipynb>data table notebook</a>'\n",
              "            + ' to learn more about interactive tables.';\n",
              "          element.innerHTML = '';\n",
              "          dataTable['output_type'] = 'display_data';\n",
              "          await google.colab.output.renderOutput(dataTable, element);\n",
              "          const docLink = document.createElement('div');\n",
              "          docLink.innerHTML = docLinkHtml;\n",
              "          element.appendChild(docLink);\n",
              "        }\n",
              "      </script>\n",
              "    </div>\n",
              "  </div>\n",
              "  "
            ]
          },
          "metadata": {},
          "execution_count": 14
        }
      ]
    },
    {
      "cell_type": "code",
      "source": [
        "# Filling the missing value in the income my mean\n",
        "\n",
        "data['Income'] = data['Income'].fillna(data['Income'].mean())\n",
        "data.isna().any()"
      ],
      "metadata": {
        "colab": {
          "base_uri": "https://localhost:8080/"
        },
        "id": "Luw88D1TMZRY",
        "outputId": "626168ec-cc34-43d5-c775-cdccd33cf1be"
      },
      "execution_count": 18,
      "outputs": [
        {
          "output_type": "execute_result",
          "data": {
            "text/plain": [
              "ID                     False\n",
              "Year_Birth             False\n",
              "Education              False\n",
              "Marital_Status         False\n",
              "Income                 False\n",
              "Kidhome                False\n",
              "Teenhome               False\n",
              "Dt_Customer            False\n",
              "Recency                False\n",
              "MntWines               False\n",
              "MntFruits              False\n",
              "MntMeatProducts        False\n",
              "MntFishProducts        False\n",
              "MntSweetProducts       False\n",
              "MntGoldProds           False\n",
              "NumDealsPurchases      False\n",
              "NumWebPurchases        False\n",
              "NumCatalogPurchases    False\n",
              "NumStorePurchases      False\n",
              "NumWebVisitsMonth      False\n",
              "AcceptedCmp3           False\n",
              "AcceptedCmp4           False\n",
              "AcceptedCmp5           False\n",
              "AcceptedCmp1           False\n",
              "AcceptedCmp2           False\n",
              "Complain               False\n",
              "Response               False\n",
              "dtype: bool"
            ]
          },
          "metadata": {},
          "execution_count": 18
        }
      ]
    },
    {
      "cell_type": "code",
      "source": [
        "data.head()"
      ],
      "metadata": {
        "colab": {
          "base_uri": "https://localhost:8080/",
          "height": 299
        },
        "id": "V_dyrvQVMiIH",
        "outputId": "4c40c866-9e43-4c84-85cc-2c660d209b56"
      },
      "execution_count": 19,
      "outputs": [
        {
          "output_type": "execute_result",
          "data": {
            "text/plain": [
              "     ID  Year_Birth   Education Marital_Status   Income  Kidhome  Teenhome  \\\n",
              "0  5524        1957  Graduation         Single  58138.0        0         0   \n",
              "1  2174        1954  Graduation         Single  46344.0        1         1   \n",
              "2  4141        1965  Graduation   relationship  71613.0        0         0   \n",
              "3  6182        1984  Graduation   relationship  26646.0        1         0   \n",
              "4  5324        1981         PhD   relationship  58293.0        1         0   \n",
              "\n",
              "  Dt_Customer  Recency  MntWines  ...  NumCatalogPurchases  NumStorePurchases  \\\n",
              "0  2012-09-04       58       635  ...                   10                  4   \n",
              "1  2014-03-08       38        11  ...                    1                  2   \n",
              "2  2013-08-21       26       426  ...                    2                 10   \n",
              "3  2014-02-10       26        11  ...                    0                  4   \n",
              "4  2014-01-19       94       173  ...                    3                  6   \n",
              "\n",
              "   NumWebVisitsMonth  AcceptedCmp3  AcceptedCmp4  AcceptedCmp5  AcceptedCmp1  \\\n",
              "0                  7             0             0             0             0   \n",
              "1                  5             0             0             0             0   \n",
              "2                  4             0             0             0             0   \n",
              "3                  6             0             0             0             0   \n",
              "4                  5             0             0             0             0   \n",
              "\n",
              "   AcceptedCmp2  Complain  Response  \n",
              "0             0         0         1  \n",
              "1             0         0         0  \n",
              "2             0         0         0  \n",
              "3             0         0         0  \n",
              "4             0         0         0  \n",
              "\n",
              "[5 rows x 27 columns]"
            ],
            "text/html": [
              "\n",
              "  <div id=\"df-c330e9e0-eeb2-4cac-a54d-db49e12aa659\">\n",
              "    <div class=\"colab-df-container\">\n",
              "      <div>\n",
              "<style scoped>\n",
              "    .dataframe tbody tr th:only-of-type {\n",
              "        vertical-align: middle;\n",
              "    }\n",
              "\n",
              "    .dataframe tbody tr th {\n",
              "        vertical-align: top;\n",
              "    }\n",
              "\n",
              "    .dataframe thead th {\n",
              "        text-align: right;\n",
              "    }\n",
              "</style>\n",
              "<table border=\"1\" class=\"dataframe\">\n",
              "  <thead>\n",
              "    <tr style=\"text-align: right;\">\n",
              "      <th></th>\n",
              "      <th>ID</th>\n",
              "      <th>Year_Birth</th>\n",
              "      <th>Education</th>\n",
              "      <th>Marital_Status</th>\n",
              "      <th>Income</th>\n",
              "      <th>Kidhome</th>\n",
              "      <th>Teenhome</th>\n",
              "      <th>Dt_Customer</th>\n",
              "      <th>Recency</th>\n",
              "      <th>MntWines</th>\n",
              "      <th>...</th>\n",
              "      <th>NumCatalogPurchases</th>\n",
              "      <th>NumStorePurchases</th>\n",
              "      <th>NumWebVisitsMonth</th>\n",
              "      <th>AcceptedCmp3</th>\n",
              "      <th>AcceptedCmp4</th>\n",
              "      <th>AcceptedCmp5</th>\n",
              "      <th>AcceptedCmp1</th>\n",
              "      <th>AcceptedCmp2</th>\n",
              "      <th>Complain</th>\n",
              "      <th>Response</th>\n",
              "    </tr>\n",
              "  </thead>\n",
              "  <tbody>\n",
              "    <tr>\n",
              "      <th>0</th>\n",
              "      <td>5524</td>\n",
              "      <td>1957</td>\n",
              "      <td>Graduation</td>\n",
              "      <td>Single</td>\n",
              "      <td>58138.0</td>\n",
              "      <td>0</td>\n",
              "      <td>0</td>\n",
              "      <td>2012-09-04</td>\n",
              "      <td>58</td>\n",
              "      <td>635</td>\n",
              "      <td>...</td>\n",
              "      <td>10</td>\n",
              "      <td>4</td>\n",
              "      <td>7</td>\n",
              "      <td>0</td>\n",
              "      <td>0</td>\n",
              "      <td>0</td>\n",
              "      <td>0</td>\n",
              "      <td>0</td>\n",
              "      <td>0</td>\n",
              "      <td>1</td>\n",
              "    </tr>\n",
              "    <tr>\n",
              "      <th>1</th>\n",
              "      <td>2174</td>\n",
              "      <td>1954</td>\n",
              "      <td>Graduation</td>\n",
              "      <td>Single</td>\n",
              "      <td>46344.0</td>\n",
              "      <td>1</td>\n",
              "      <td>1</td>\n",
              "      <td>2014-03-08</td>\n",
              "      <td>38</td>\n",
              "      <td>11</td>\n",
              "      <td>...</td>\n",
              "      <td>1</td>\n",
              "      <td>2</td>\n",
              "      <td>5</td>\n",
              "      <td>0</td>\n",
              "      <td>0</td>\n",
              "      <td>0</td>\n",
              "      <td>0</td>\n",
              "      <td>0</td>\n",
              "      <td>0</td>\n",
              "      <td>0</td>\n",
              "    </tr>\n",
              "    <tr>\n",
              "      <th>2</th>\n",
              "      <td>4141</td>\n",
              "      <td>1965</td>\n",
              "      <td>Graduation</td>\n",
              "      <td>relationship</td>\n",
              "      <td>71613.0</td>\n",
              "      <td>0</td>\n",
              "      <td>0</td>\n",
              "      <td>2013-08-21</td>\n",
              "      <td>26</td>\n",
              "      <td>426</td>\n",
              "      <td>...</td>\n",
              "      <td>2</td>\n",
              "      <td>10</td>\n",
              "      <td>4</td>\n",
              "      <td>0</td>\n",
              "      <td>0</td>\n",
              "      <td>0</td>\n",
              "      <td>0</td>\n",
              "      <td>0</td>\n",
              "      <td>0</td>\n",
              "      <td>0</td>\n",
              "    </tr>\n",
              "    <tr>\n",
              "      <th>3</th>\n",
              "      <td>6182</td>\n",
              "      <td>1984</td>\n",
              "      <td>Graduation</td>\n",
              "      <td>relationship</td>\n",
              "      <td>26646.0</td>\n",
              "      <td>1</td>\n",
              "      <td>0</td>\n",
              "      <td>2014-02-10</td>\n",
              "      <td>26</td>\n",
              "      <td>11</td>\n",
              "      <td>...</td>\n",
              "      <td>0</td>\n",
              "      <td>4</td>\n",
              "      <td>6</td>\n",
              "      <td>0</td>\n",
              "      <td>0</td>\n",
              "      <td>0</td>\n",
              "      <td>0</td>\n",
              "      <td>0</td>\n",
              "      <td>0</td>\n",
              "      <td>0</td>\n",
              "    </tr>\n",
              "    <tr>\n",
              "      <th>4</th>\n",
              "      <td>5324</td>\n",
              "      <td>1981</td>\n",
              "      <td>PhD</td>\n",
              "      <td>relationship</td>\n",
              "      <td>58293.0</td>\n",
              "      <td>1</td>\n",
              "      <td>0</td>\n",
              "      <td>2014-01-19</td>\n",
              "      <td>94</td>\n",
              "      <td>173</td>\n",
              "      <td>...</td>\n",
              "      <td>3</td>\n",
              "      <td>6</td>\n",
              "      <td>5</td>\n",
              "      <td>0</td>\n",
              "      <td>0</td>\n",
              "      <td>0</td>\n",
              "      <td>0</td>\n",
              "      <td>0</td>\n",
              "      <td>0</td>\n",
              "      <td>0</td>\n",
              "    </tr>\n",
              "  </tbody>\n",
              "</table>\n",
              "<p>5 rows × 27 columns</p>\n",
              "</div>\n",
              "      <button class=\"colab-df-convert\" onclick=\"convertToInteractive('df-c330e9e0-eeb2-4cac-a54d-db49e12aa659')\"\n",
              "              title=\"Convert this dataframe to an interactive table.\"\n",
              "              style=\"display:none;\">\n",
              "        \n",
              "  <svg xmlns=\"http://www.w3.org/2000/svg\" height=\"24px\"viewBox=\"0 0 24 24\"\n",
              "       width=\"24px\">\n",
              "    <path d=\"M0 0h24v24H0V0z\" fill=\"none\"/>\n",
              "    <path d=\"M18.56 5.44l.94 2.06.94-2.06 2.06-.94-2.06-.94-.94-2.06-.94 2.06-2.06.94zm-11 1L8.5 8.5l.94-2.06 2.06-.94-2.06-.94L8.5 2.5l-.94 2.06-2.06.94zm10 10l.94 2.06.94-2.06 2.06-.94-2.06-.94-.94-2.06-.94 2.06-2.06.94z\"/><path d=\"M17.41 7.96l-1.37-1.37c-.4-.4-.92-.59-1.43-.59-.52 0-1.04.2-1.43.59L10.3 9.45l-7.72 7.72c-.78.78-.78 2.05 0 2.83L4 21.41c.39.39.9.59 1.41.59.51 0 1.02-.2 1.41-.59l7.78-7.78 2.81-2.81c.8-.78.8-2.07 0-2.86zM5.41 20L4 18.59l7.72-7.72 1.47 1.35L5.41 20z\"/>\n",
              "  </svg>\n",
              "      </button>\n",
              "      \n",
              "  <style>\n",
              "    .colab-df-container {\n",
              "      display:flex;\n",
              "      flex-wrap:wrap;\n",
              "      gap: 12px;\n",
              "    }\n",
              "\n",
              "    .colab-df-convert {\n",
              "      background-color: #E8F0FE;\n",
              "      border: none;\n",
              "      border-radius: 50%;\n",
              "      cursor: pointer;\n",
              "      display: none;\n",
              "      fill: #1967D2;\n",
              "      height: 32px;\n",
              "      padding: 0 0 0 0;\n",
              "      width: 32px;\n",
              "    }\n",
              "\n",
              "    .colab-df-convert:hover {\n",
              "      background-color: #E2EBFA;\n",
              "      box-shadow: 0px 1px 2px rgba(60, 64, 67, 0.3), 0px 1px 3px 1px rgba(60, 64, 67, 0.15);\n",
              "      fill: #174EA6;\n",
              "    }\n",
              "\n",
              "    [theme=dark] .colab-df-convert {\n",
              "      background-color: #3B4455;\n",
              "      fill: #D2E3FC;\n",
              "    }\n",
              "\n",
              "    [theme=dark] .colab-df-convert:hover {\n",
              "      background-color: #434B5C;\n",
              "      box-shadow: 0px 1px 3px 1px rgba(0, 0, 0, 0.15);\n",
              "      filter: drop-shadow(0px 1px 2px rgba(0, 0, 0, 0.3));\n",
              "      fill: #FFFFFF;\n",
              "    }\n",
              "  </style>\n",
              "\n",
              "      <script>\n",
              "        const buttonEl =\n",
              "          document.querySelector('#df-c330e9e0-eeb2-4cac-a54d-db49e12aa659 button.colab-df-convert');\n",
              "        buttonEl.style.display =\n",
              "          google.colab.kernel.accessAllowed ? 'block' : 'none';\n",
              "\n",
              "        async function convertToInteractive(key) {\n",
              "          const element = document.querySelector('#df-c330e9e0-eeb2-4cac-a54d-db49e12aa659');\n",
              "          const dataTable =\n",
              "            await google.colab.kernel.invokeFunction('convertToInteractive',\n",
              "                                                     [key], {});\n",
              "          if (!dataTable) return;\n",
              "\n",
              "          const docLinkHtml = 'Like what you see? Visit the ' +\n",
              "            '<a target=\"_blank\" href=https://colab.research.google.com/notebooks/data_table.ipynb>data table notebook</a>'\n",
              "            + ' to learn more about interactive tables.';\n",
              "          element.innerHTML = '';\n",
              "          dataTable['output_type'] = 'display_data';\n",
              "          await google.colab.output.renderOutput(dataTable, element);\n",
              "          const docLink = document.createElement('div');\n",
              "          docLink.innerHTML = docLinkHtml;\n",
              "          element.appendChild(docLink);\n",
              "        }\n",
              "      </script>\n",
              "    </div>\n",
              "  </div>\n",
              "  "
            ]
          },
          "metadata": {},
          "execution_count": 19
        }
      ]
    },
    {
      "cell_type": "code",
      "source": [
        "# Checking number of unique categories present in the \"Marital_Status\"\n",
        "\n",
        "data['Marital_Status'].value_counts()  "
      ],
      "metadata": {
        "colab": {
          "base_uri": "https://localhost:8080/"
        },
        "id": "kZE7hzRWL36P",
        "outputId": "2a32e8c5-3caf-4acb-af13-1f7e852c5e43"
      },
      "execution_count": 16,
      "outputs": [
        {
          "output_type": "execute_result",
          "data": {
            "text/plain": [
              "Married     864\n",
              "Together    580\n",
              "Single      480\n",
              "Divorced    232\n",
              "Widow        77\n",
              "Alone         3\n",
              "Absurd        2\n",
              "YOLO          2\n",
              "Name: Marital_Status, dtype: int64"
            ]
          },
          "metadata": {},
          "execution_count": 16
        }
      ]
    },
    {
      "cell_type": "code",
      "source": [
        "data['Marital_Status'] = data['Marital_Status'].replace(['Married', 'Together'],'relationship')\n",
        "data['Marital_Status'] = data['Marital_Status'].replace(['Divorced', 'Widow', 'Alone', 'YOLO', 'Absurd'],'Single')"
      ],
      "metadata": {
        "id": "nojdEHe4MI61"
      },
      "execution_count": 17,
      "outputs": []
    },
    {
      "cell_type": "markdown",
      "source": [
        "In the above cell we are grouping 'Married', 'Together' as \"relationship\"\n",
        "Whereas 'Divorced', 'Widow', 'Alone', 'YOLO', 'Absurd' as \"Single\""
      ],
      "metadata": {
        "id": "f3mjSiQ9MPtC"
      }
    },
    {
      "cell_type": "code",
      "source": [
        "# Count of different values present in Marital_Status\n",
        "\n",
        "data['Marital_Status'].value_counts() "
      ],
      "metadata": {
        "colab": {
          "base_uri": "https://localhost:8080/"
        },
        "id": "WFRsu9LMM1mX",
        "outputId": "81edf5bd-6776-4f95-fee3-f2d4e1a0192b"
      },
      "execution_count": 20,
      "outputs": [
        {
          "output_type": "execute_result",
          "data": {
            "text/plain": [
              "relationship    1444\n",
              "Single           796\n",
              "Name: Marital_Status, dtype: int64"
            ]
          },
          "metadata": {},
          "execution_count": 20
        }
      ]
    },
    {
      "cell_type": "code",
      "source": [
        "# Combining different dataframe into a single column to reduce the number of dimension\n",
        "\n",
        "data['Kids'] = data['Kidhome'] + data['Teenhome']\n",
        "data['Expenses'] = data['MntWines'] + data['MntFruits'] + data['MntMeatProducts'] + data['MntFishProducts'] + data['MntSweetProducts'] + data['MntGoldProds']\n",
        "data['TotalAcceptedCmp'] = data['AcceptedCmp1'] + data['AcceptedCmp2'] + data['AcceptedCmp3'] + data['AcceptedCmp4'] + data['AcceptedCmp5'] + data['Response']\n",
        "data['NumTotalPurchases'] = data['NumWebPurchases'] + data['NumCatalogPurchases'] + data['NumStorePurchases'] + data['NumDealsPurchases']"
      ],
      "metadata": {
        "id": "sSda4RAANIJV"
      },
      "execution_count": 21,
      "outputs": []
    },
    {
      "cell_type": "code",
      "source": [
        "# Deleting some column to reduce dimension and complexity of model\n",
        "\n",
        "col_del = [\"AcceptedCmp1\" , \"AcceptedCmp2\", \"AcceptedCmp3\" , \"AcceptedCmp4\",\"AcceptedCmp5\", \"Response\",\"NumWebVisitsMonth\", \"NumWebPurchases\",\"NumCatalogPurchases\",\"NumStorePurchases\",\"NumDealsPurchases\" , \"Kidhome\", \"Teenhome\",\"MntWines\", \"MntFruits\", \"MntMeatProducts\", \"MntFishProducts\", \"MntSweetProducts\", \"MntGoldProds\"]\n",
        "data=data.drop(columns=col_del,axis=1)\n",
        "data.head()"
      ],
      "metadata": {
        "colab": {
          "base_uri": "https://localhost:8080/",
          "height": 206
        },
        "id": "suO7X95HNm8X",
        "outputId": "27185d3e-e9d7-46b7-8304-b6673d2e9b32"
      },
      "execution_count": 22,
      "outputs": [
        {
          "output_type": "execute_result",
          "data": {
            "text/plain": [
              "     ID  Year_Birth   Education Marital_Status   Income Dt_Customer  Recency  \\\n",
              "0  5524        1957  Graduation         Single  58138.0  2012-09-04       58   \n",
              "1  2174        1954  Graduation         Single  46344.0  2014-03-08       38   \n",
              "2  4141        1965  Graduation   relationship  71613.0  2013-08-21       26   \n",
              "3  6182        1984  Graduation   relationship  26646.0  2014-02-10       26   \n",
              "4  5324        1981         PhD   relationship  58293.0  2014-01-19       94   \n",
              "\n",
              "   Complain  Kids  Expenses  TotalAcceptedCmp  NumTotalPurchases  \n",
              "0         0     0      1617                 1                 25  \n",
              "1         0     2        27                 0                  6  \n",
              "2         0     0       776                 0                 21  \n",
              "3         0     1        53                 0                  8  \n",
              "4         0     1       422                 0                 19  "
            ],
            "text/html": [
              "\n",
              "  <div id=\"df-136c001b-1d74-4d34-bf1b-499031f43400\">\n",
              "    <div class=\"colab-df-container\">\n",
              "      <div>\n",
              "<style scoped>\n",
              "    .dataframe tbody tr th:only-of-type {\n",
              "        vertical-align: middle;\n",
              "    }\n",
              "\n",
              "    .dataframe tbody tr th {\n",
              "        vertical-align: top;\n",
              "    }\n",
              "\n",
              "    .dataframe thead th {\n",
              "        text-align: right;\n",
              "    }\n",
              "</style>\n",
              "<table border=\"1\" class=\"dataframe\">\n",
              "  <thead>\n",
              "    <tr style=\"text-align: right;\">\n",
              "      <th></th>\n",
              "      <th>ID</th>\n",
              "      <th>Year_Birth</th>\n",
              "      <th>Education</th>\n",
              "      <th>Marital_Status</th>\n",
              "      <th>Income</th>\n",
              "      <th>Dt_Customer</th>\n",
              "      <th>Recency</th>\n",
              "      <th>Complain</th>\n",
              "      <th>Kids</th>\n",
              "      <th>Expenses</th>\n",
              "      <th>TotalAcceptedCmp</th>\n",
              "      <th>NumTotalPurchases</th>\n",
              "    </tr>\n",
              "  </thead>\n",
              "  <tbody>\n",
              "    <tr>\n",
              "      <th>0</th>\n",
              "      <td>5524</td>\n",
              "      <td>1957</td>\n",
              "      <td>Graduation</td>\n",
              "      <td>Single</td>\n",
              "      <td>58138.0</td>\n",
              "      <td>2012-09-04</td>\n",
              "      <td>58</td>\n",
              "      <td>0</td>\n",
              "      <td>0</td>\n",
              "      <td>1617</td>\n",
              "      <td>1</td>\n",
              "      <td>25</td>\n",
              "    </tr>\n",
              "    <tr>\n",
              "      <th>1</th>\n",
              "      <td>2174</td>\n",
              "      <td>1954</td>\n",
              "      <td>Graduation</td>\n",
              "      <td>Single</td>\n",
              "      <td>46344.0</td>\n",
              "      <td>2014-03-08</td>\n",
              "      <td>38</td>\n",
              "      <td>0</td>\n",
              "      <td>2</td>\n",
              "      <td>27</td>\n",
              "      <td>0</td>\n",
              "      <td>6</td>\n",
              "    </tr>\n",
              "    <tr>\n",
              "      <th>2</th>\n",
              "      <td>4141</td>\n",
              "      <td>1965</td>\n",
              "      <td>Graduation</td>\n",
              "      <td>relationship</td>\n",
              "      <td>71613.0</td>\n",
              "      <td>2013-08-21</td>\n",
              "      <td>26</td>\n",
              "      <td>0</td>\n",
              "      <td>0</td>\n",
              "      <td>776</td>\n",
              "      <td>0</td>\n",
              "      <td>21</td>\n",
              "    </tr>\n",
              "    <tr>\n",
              "      <th>3</th>\n",
              "      <td>6182</td>\n",
              "      <td>1984</td>\n",
              "      <td>Graduation</td>\n",
              "      <td>relationship</td>\n",
              "      <td>26646.0</td>\n",
              "      <td>2014-02-10</td>\n",
              "      <td>26</td>\n",
              "      <td>0</td>\n",
              "      <td>1</td>\n",
              "      <td>53</td>\n",
              "      <td>0</td>\n",
              "      <td>8</td>\n",
              "    </tr>\n",
              "    <tr>\n",
              "      <th>4</th>\n",
              "      <td>5324</td>\n",
              "      <td>1981</td>\n",
              "      <td>PhD</td>\n",
              "      <td>relationship</td>\n",
              "      <td>58293.0</td>\n",
              "      <td>2014-01-19</td>\n",
              "      <td>94</td>\n",
              "      <td>0</td>\n",
              "      <td>1</td>\n",
              "      <td>422</td>\n",
              "      <td>0</td>\n",
              "      <td>19</td>\n",
              "    </tr>\n",
              "  </tbody>\n",
              "</table>\n",
              "</div>\n",
              "      <button class=\"colab-df-convert\" onclick=\"convertToInteractive('df-136c001b-1d74-4d34-bf1b-499031f43400')\"\n",
              "              title=\"Convert this dataframe to an interactive table.\"\n",
              "              style=\"display:none;\">\n",
              "        \n",
              "  <svg xmlns=\"http://www.w3.org/2000/svg\" height=\"24px\"viewBox=\"0 0 24 24\"\n",
              "       width=\"24px\">\n",
              "    <path d=\"M0 0h24v24H0V0z\" fill=\"none\"/>\n",
              "    <path d=\"M18.56 5.44l.94 2.06.94-2.06 2.06-.94-2.06-.94-.94-2.06-.94 2.06-2.06.94zm-11 1L8.5 8.5l.94-2.06 2.06-.94-2.06-.94L8.5 2.5l-.94 2.06-2.06.94zm10 10l.94 2.06.94-2.06 2.06-.94-2.06-.94-.94-2.06-.94 2.06-2.06.94z\"/><path d=\"M17.41 7.96l-1.37-1.37c-.4-.4-.92-.59-1.43-.59-.52 0-1.04.2-1.43.59L10.3 9.45l-7.72 7.72c-.78.78-.78 2.05 0 2.83L4 21.41c.39.39.9.59 1.41.59.51 0 1.02-.2 1.41-.59l7.78-7.78 2.81-2.81c.8-.78.8-2.07 0-2.86zM5.41 20L4 18.59l7.72-7.72 1.47 1.35L5.41 20z\"/>\n",
              "  </svg>\n",
              "      </button>\n",
              "      \n",
              "  <style>\n",
              "    .colab-df-container {\n",
              "      display:flex;\n",
              "      flex-wrap:wrap;\n",
              "      gap: 12px;\n",
              "    }\n",
              "\n",
              "    .colab-df-convert {\n",
              "      background-color: #E8F0FE;\n",
              "      border: none;\n",
              "      border-radius: 50%;\n",
              "      cursor: pointer;\n",
              "      display: none;\n",
              "      fill: #1967D2;\n",
              "      height: 32px;\n",
              "      padding: 0 0 0 0;\n",
              "      width: 32px;\n",
              "    }\n",
              "\n",
              "    .colab-df-convert:hover {\n",
              "      background-color: #E2EBFA;\n",
              "      box-shadow: 0px 1px 2px rgba(60, 64, 67, 0.3), 0px 1px 3px 1px rgba(60, 64, 67, 0.15);\n",
              "      fill: #174EA6;\n",
              "    }\n",
              "\n",
              "    [theme=dark] .colab-df-convert {\n",
              "      background-color: #3B4455;\n",
              "      fill: #D2E3FC;\n",
              "    }\n",
              "\n",
              "    [theme=dark] .colab-df-convert:hover {\n",
              "      background-color: #434B5C;\n",
              "      box-shadow: 0px 1px 3px 1px rgba(0, 0, 0, 0.15);\n",
              "      filter: drop-shadow(0px 1px 2px rgba(0, 0, 0, 0.3));\n",
              "      fill: #FFFFFF;\n",
              "    }\n",
              "  </style>\n",
              "\n",
              "      <script>\n",
              "        const buttonEl =\n",
              "          document.querySelector('#df-136c001b-1d74-4d34-bf1b-499031f43400 button.colab-df-convert');\n",
              "        buttonEl.style.display =\n",
              "          google.colab.kernel.accessAllowed ? 'block' : 'none';\n",
              "\n",
              "        async function convertToInteractive(key) {\n",
              "          const element = document.querySelector('#df-136c001b-1d74-4d34-bf1b-499031f43400');\n",
              "          const dataTable =\n",
              "            await google.colab.kernel.invokeFunction('convertToInteractive',\n",
              "                                                     [key], {});\n",
              "          if (!dataTable) return;\n",
              "\n",
              "          const docLinkHtml = 'Like what you see? Visit the ' +\n",
              "            '<a target=\"_blank\" href=https://colab.research.google.com/notebooks/data_table.ipynb>data table notebook</a>'\n",
              "            + ' to learn more about interactive tables.';\n",
              "          element.innerHTML = '';\n",
              "          dataTable['output_type'] = 'display_data';\n",
              "          await google.colab.output.renderOutput(dataTable, element);\n",
              "          const docLink = document.createElement('div');\n",
              "          docLink.innerHTML = docLinkHtml;\n",
              "          element.appendChild(docLink);\n",
              "        }\n",
              "      </script>\n",
              "    </div>\n",
              "  </div>\n",
              "  "
            ]
          },
          "metadata": {},
          "execution_count": 22
        }
      ]
    },
    {
      "cell_type": "code",
      "source": [
        "# Adding a column \"Age\" in the dataframe\n",
        "import datetime as dt\n",
        "\n",
        "data['Age'] = 2015 - data[\"Year_Birth\"]\n",
        "     "
      ],
      "metadata": {
        "id": "oyrswNS7N0tW"
      },
      "execution_count": 48,
      "outputs": []
    },
    {
      "cell_type": "code",
      "source": [
        "data['Education'].value_counts()"
      ],
      "metadata": {
        "colab": {
          "base_uri": "https://localhost:8080/"
        },
        "id": "i59b1vlxN5tu",
        "outputId": "5a529155-ec14-4ccc-e616-dc35331cea7d"
      },
      "execution_count": 24,
      "outputs": [
        {
          "output_type": "execute_result",
          "data": {
            "text/plain": [
              "Graduation    1127\n",
              "PhD            486\n",
              "Master         370\n",
              "2n Cycle       203\n",
              "Basic           54\n",
              "Name: Education, dtype: int64"
            ]
          },
          "metadata": {},
          "execution_count": 24
        }
      ]
    },
    {
      "cell_type": "code",
      "source": [
        "# Changing category into UG and PG only\n",
        "\n",
        "data['Education'] = data['Education'].replace(['PhD','2n Cycle','Graduation', 'Master'],'PG')  \n",
        "data['Education'] = data['Education'].replace(['Basic'], 'UG')"
      ],
      "metadata": {
        "id": "C1C-Xo-VOGNO"
      },
      "execution_count": 26,
      "outputs": []
    },
    {
      "cell_type": "markdown",
      "source": [
        "**Data Visualization**"
      ],
      "metadata": {
        "id": "B6vcIFiYc1Ym"
      }
    },
    {
      "cell_type": "code",
      "source": [
        "plt.figure(figsize=(11,14), facecolor='lightyellow')\n",
        "data['Age'].value_counts().sort_index(ascending=False).plot(kind='barh')\n",
        "plt.title('Age')"
      ],
      "metadata": {
        "colab": {
          "base_uri": "https://localhost:8080/",
          "height": 842
        },
        "id": "oiud9LT9OPu2",
        "outputId": "6520bd80-dcf3-427c-f518-383fcadb23cd"
      },
      "execution_count": 27,
      "outputs": [
        {
          "output_type": "execute_result",
          "data": {
            "text/plain": [
              "Text(0.5, 1.0, 'Age')"
            ]
          },
          "metadata": {},
          "execution_count": 27
        },
        {
          "output_type": "display_data",
          "data": {
            "text/plain": [
              "<Figure size 792x1008 with 1 Axes>"
            ],
            "image/png": "[encoded data removed]"
          },
          "metadata": {}
        }
      ]
    },
    {
      "cell_type": "markdown",
      "source": [
        "The age graph shows that the majority of clients are between the ages of 43 and 56."
      ],
      "metadata": {
        "id": "Qr6BGZluOc0e"
      }
    },
    {
      "cell_type": "code",
      "source": [
        "plt.figure(figsize=(10,10), facecolor='lightgreen')\n",
        "sns.set(style='whitegrid')\n",
        "ax = sns.histplot(data=data, x='Income', binwidth=10000, kde=True)\n",
        "ax.set_title('Income')"
      ],
      "metadata": {
        "colab": {
          "base_uri": "https://localhost:8080/",
          "height": 644
        },
        "id": "HEi56DLQOYFI",
        "outputId": "58fd411d-3d17-42f5-b89c-f18309e11c40"
      },
      "execution_count": 28,
      "outputs": [
        {
          "output_type": "execute_result",
          "data": {
            "text/plain": [
              "Text(0.5, 1.0, 'Income')"
            ]
          },
          "metadata": {},
          "execution_count": 28
        },
        {
          "output_type": "display_data",
          "data": {
            "text/plain": [
              "<Figure size 720x720 with 1 Axes>"
            ],
            "image/png": "[encoded data removed]"
          },
          "metadata": {}
        }
      ]
    },
    {
      "cell_type": "markdown",
      "source": [
        "The income graph shows that the majority of the clients have incomes between 30,000 to 80,000."
      ],
      "metadata": {
        "id": "qeo_bRpzOqVi"
      }
    },
    {
      "cell_type": "code",
      "source": [
        "plt.figure(figsize=(8, 9), facecolor='lightpink')\n",
        "sns.set(style='whitegrid')\n",
        "ax = sns.countplot(data=data, x='Education', saturation=1, alpha=0.9, palette='rocket', order=data['Education'].value_counts().index)\n",
        "ax.set_title('Education')\n",
        "for p in ax.patches:\n",
        " ax.annotate(f'\\n{p.get_height()}', (p.get_x()+0.4, p.get_height()), ha='center', va='top', color='white', size=11)\n",
        "plt.show()"
      ],
      "metadata": {
        "colab": {
          "base_uri": "https://localhost:8080/",
          "height": 573
        },
        "id": "mk06gqI8OsIb",
        "outputId": "7cbd2427-1764-4551-e86f-a60eddeabc58"
      },
      "execution_count": 29,
      "outputs": [
        {
          "output_type": "display_data",
          "data": {
            "text/plain": [
              "<Figure size 576x648 with 1 Axes>"
            ],
            "image/png": "[encoded data removed]"
          },
          "metadata": {}
        }
      ]
    },
    {
      "cell_type": "markdown",
      "source": [
        "The majority of clients that is more than 97% come from PG level educational backgrounds, according to the education graph."
      ],
      "metadata": {
        "id": "nJFAQJmTO0yn"
      }
    },
    {
      "cell_type": "code",
      "source": [
        "plt.figure(figsize=(9, 8), facecolor='lightgreen')\n",
        "sns.set(style='whitegrid')\n",
        "ax = sns.countplot(data=data, x='Marital_Status', saturation=1, alpha=0.9, palette='rocket', order=data['Marital_Status'].value_counts().index)\n",
        "ax.set_title('Marital_Status')\n",
        "for p in ax.patches:\n",
        " number = '{}'.format(p.get_height().astype('int64'))\n",
        "ax.annotate(number, (p.get_x() + p.get_width()/2., p.get_height()), ha='center', va='center',\n",
        "xytext=(0,5), textcoords='offset points', color='black', fontweight='semibold', fontsize=9)"
      ],
      "metadata": {
        "colab": {
          "base_uri": "https://localhost:8080/",
          "height": 535
        },
        "id": "N4hzhTx_O3aM",
        "outputId": "149da28f-b5a5-4d8d-9e3b-155659fbb492"
      },
      "execution_count": 30,
      "outputs": [
        {
          "output_type": "execute_result",
          "data": {
            "text/plain": [
              "Text(0, 5, '796')"
            ]
          },
          "metadata": {},
          "execution_count": 30
        },
        {
          "output_type": "display_data",
          "data": {
            "text/plain": [
              "<Figure size 648x576 with 1 Axes>"
            ],
            "image/png": "[encoded data removed]"
          },
          "metadata": {}
        }
      ]
    },
    {
      "cell_type": "markdown",
      "source": [
        "The graph of marital status shows that the majority of consumers are already married."
      ],
      "metadata": {
        "id": "Mh293pD7PBSk"
      }
    },
    {
      "cell_type": "code",
      "source": [
        "fig = px.histogram (data, x = \"Expenses\",  facet_row = \"Marital_Status\",  template = 'plotly_dark')\n",
        "fig.show ()"
      ],
      "metadata": {
        "colab": {
          "base_uri": "https://localhost:8080/",
          "height": 542
        },
        "id": "igVsKwzbPHJ-",
        "outputId": "8bf8cc21-125d-4f85-8abe-e12c56ddf0c1"
      },
      "execution_count": 31,
      "outputs": [
        {
          "output_type": "display_data",
          "data": {
            "text/html": [
              "<html>\n",
              "<head><meta charset=\"utf-8\" /></head>\n",
              "<body>\n",
              "    <div>            <script src=\"https://cdnjs.cloudflare.com/ajax/libs/mathjax/2.7.5/MathJax.js?config=TeX-AMS-MML_SVG\"></script><script type=\"text/javascript\">if (window.MathJax && window.MathJax.Hub && window.MathJax.Hub.Config) {window.MathJax.Hub.Config({SVG: {font: \"STIX-Web\"}});}</script>                <script type=\"text/javascript\">window.PlotlyConfig = {MathJaxConfig: 'local'};</script>\n",
              "        <script src=\"https://cdn.plot.ly/plotly-2.18.2.min.js\"></script>                <div id=\"77c8eaad-1f4a-4d7c-86e9-2f38360dba62\" class=\"plotly-graph-div\" style=\"height:525px; width:100%;\"></div>            <script type=\"text/javascript\">                                    window.PLOTLYENV=window.PLOTLYENV || {};                                    if (document.getElementById(\"77c8eaad-1f4a-4d7c-86e9-2f38360dba62\")) {                    Plotly.newPlot(                        \"77c8eaad-1f4a-4d7c-86e9-2f38360dba62\",                        [{\"alignmentgroup\":\"True\",\"bingroup\":\"x\",\"hovertemplate\":\"Marital_Status=Single<br>Expenses=%{x}<br>count=%{y}<extra></extra>\",\"legendgroup\":\"\",\"marker\":{\"color\":\"#636efa\",\"pattern\":{\"shape\":\"\"}},\"name\":\"\",\"offsetgroup\":\"\",\"orientation\":\"v\",\"showlegend\":false,\"x\":[1617,27,590,1102,310,1315,133,75,637,30,302,65,67,902,186,984,124,507,72,1617,1093,29,46,1438,884,606,1274,13,2209,165,778,372,18,32,606,63,72,55,145,1820,730,114,80,43,1135,1923,632,29,49,38,2077,871,89,306,18,1231,13,1293,421,259,1117,119,39,65,263,535,1295,1150,38,35,293,1804,17,285,1245,1103,433,1588,19,605,57,22,2088,26,64,26,1112,33,322,44,17,31,845,1635,60,99,957,925,908,1478,390,32,825,916,62,273,107,1157,53,1508,401,1052,20,1307,630,65,160,23,71,946,1442,1538,139,940,1190,44,1029,1277,49,636,693,51,990,29,1371,73,120,81,37,51,324,19,41,1173,1127,27,64,163,446,70,272,79,369,1474,1688,57,733,467,37,20,192,1379,868,59,2059,926,135,1288,15,25,31,54,296,895,205,309,900,682,663,43,1210,1157,730,943,2089,42,52,1651,1895,521,1168,46,1062,76,201,406,1600,54,91,526,795,1572,331,1065,21,177,1867,81,1478,67,42,1151,213,67,28,268,266,882,35,42,95,939,33,1237,103,191,93,1587,16,1375,1477,1307,486,235,2008,365,6,223,1064,59,574,1029,990,576,664,928,2074,689,2114,493,957,121,23,57,636,734,1453,1621,187,57,637,903,112,1152,1185,21,1027,11,284,1472,1099,63,960,28,1064,564,86,833,654,93,43,1525,1230,25,813,377,50,177,315,1071,41,1167,1478,48,726,570,1808,577,1576,36,1482,63,680,385,1633,46,761,89,1345,764,195,368,1180,369,393,10,995,182,595,1226,86,16,2114,263,1281,353,14,902,1139,1638,84,203,1423,1449,28,1453,1198,1990,350,1650,1228,95,2052,1127,125,966,833,779,811,1120,1187,66,305,995,171,131,694,361,1079,578,491,23,6,54,1150,1315,45,1789,805,108,23,343,528,1901,488,17,279,137,94,80,22,1968,313,92,178,122,56,968,1250,653,49,1650,1826,18,396,967,2087,17,1192,133,73,424,868,756,1862,1323,1156,1104,16,2008,44,757,332,135,384,1722,24,1168,15,2013,1313,30,46,86,1103,27,1060,48,1097,91,2525,1232,88,17,24,1020,1812,1461,96,160,908,1072,31,140,530,114,101,789,90,811,189,63,152,21,899,8,119,928,49,1779,83,1862,1383,825,246,76,1192,1229,44,26,15,62,57,310,1540,57,473,373,1424,32,299,24,112,1313,1258,861,634,1918,131,447,797,1143,415,187,237,35,493,371,396,222,21,72,15,59,908,354,152,209,545,817,1371,61,449,38,34,294,1930,1507,57,180,2349,556,795,40,1540,217,1180,860,269,55,38,1396,120,275,106,1923,84,5,1234,1658,120,269,22,1156,1128,18,793,167,677,92,20,102,1034,792,407,1269,1315,2525,507,974,778,49,95,424,339,1334,710,1538,1722,270,311,561,1092,601,638,1750,20,813,1179,138,1511,117,32,67,1792,496,902,68,71,76,265,36,1754,1001,1157,688,1319,31,708,32,1695,57,64,1067,1991,1686,324,69,54,55,563,1504,564,145,792,882,48,467,44,38,167,48,20,101,968,165,47,144,253,62,84,398,76,433,416,44,1797,1143,1338,1331,68,131,388,99,1662,1024,35,34,1365,1323,1217,103,14,424,656,20,42,1049,48,685,39,43,835,1596,149,946,28,450,1702,732,801,236,1685,277,49,39,1490,1198,416,47,137,70,1676,1735,1191,1336,455,775,42,1272,74,157,1336,463,1130,377,1544,138,1766,161,144,1429,982,44,88,27,101,415,1958,2217,1691,331,25,13,16,92,441,283,1870,165,1655,21,46,930,639,692,1392,223,1575,527,932,71,129,1615,1034,47,993,653,602,102,450,1564,56,400,1216,264,497,2006,615,1573,28,43,1931,1169,258,25,185,180,22,94,798,1334,258,174,274,1565,29,94,1338,1092,54,568,1199,1893,424,69,1644,59,35,141,106,704,424,199,53,521,45,1435,1234,1438,679,468,84,1049,22,1241],\"xaxis\":\"x2\",\"yaxis\":\"y2\",\"type\":\"histogram\"},{\"alignmentgroup\":\"True\",\"bingroup\":\"x\",\"hovertemplate\":\"Marital_Status=relationship<br>Expenses=%{x}<br>count=%{y}<extra></extra>\",\"legendgroup\":\"\",\"marker\":{\"color\":\"#636efa\",\"pattern\":{\"shape\":\"\"}},\"name\":\"\",\"offsetgroup\":\"\",\"orientation\":\"v\",\"showlegend\":false,\"x\":[776,53,422,716,169,46,49,19,61,46,96,317,1782,316,1730,972,544,444,257,131,1672,318,120,1196,913,81,1395,53,22,31,122,55,1319,1693,606,1957,518,612,1076,34,11,653,1562,1253,109,863,661,65,1890,18,692,16,79,318,56,151,1366,194,603,985,43,45,978,410,1169,1120,1097,29,187,910,850,969,608,551,1724,577,81,33,660,30,559,90,404,661,463,725,725,279,1482,106,1053,1385,312,877,68,22,211,127,459,460,429,1021,1381,162,1706,121,1608,88,89,36,57,148,93,1835,1318,45,10,978,191,57,1033,66,43,50,608,1581,68,80,1282,91,315,31,834,1600,1270,1240,53,65,241,1101,264,541,1198,482,1615,1135,114,1047,714,185,189,576,1753,17,22,1117,69,23,1009,1627,1102,17,1690,1390,2126,1531,210,1148,1101,275,25,275,90,1495,184,981,67,231,48,770,818,102,576,317,461,37,70,930,859,52,137,1919,68,25,1374,100,728,90,66,1213,546,241,37,1611,235,32,102,28,680,30,1283,37,38,1161,59,33,62,1674,1853,1182,507,18,42,16,835,1443,1188,99,1670,900,425,2153,57,25,494,1348,1932,30,254,1377,17,22,211,492,1005,114,1738,222,209,787,1598,186,47,96,1040,343,41,46,490,915,1485,1073,1242,78,1378,751,48,45,10,1435,2119,20,1795,1188,43,1008,684,1082,1068,46,122,36,34,156,14,34,48,428,1001,431,971,348,265,270,1289,893,1495,120,1743,542,890,1388,17,906,44,973,518,530,506,70,266,747,1053,735,20,2092,1722,1816,976,746,64,32,263,1445,46,945,137,216,347,1924,397,138,777,1902,358,1727,210,42,1291,442,411,493,260,319,96,232,54,1919,662,41,134,69,21,162,1008,240,1772,64,1957,78,795,889,265,11,17,369,38,279,62,1230,182,49,75,227,215,444,47,143,55,63,611,473,55,2086,49,382,69,30,63,79,819,594,129,45,1193,37,37,373,107,326,404,981,36,1825,1586,963,889,393,1179,1005,1348,2252,235,1724,1092,599,48,1174,67,165,210,1095,597,22,74,26,60,20,34,198,1048,670,11,1241,172,467,257,1146,1717,1346,1044,270,29,126,1004,614,1443,948,59,18,596,233,1511,48,965,869,16,1947,71,65,1380,411,836,480,606,1677,1335,334,18,1338,97,109,902,1574,38,1215,1497,449,1757,1440,1006,1226,1171,92,99,66,1427,242,1869,1364,183,450,758,1507,81,137,16,1158,29,24,38,57,47,629,1612,729,270,767,1580,60,573,170,1526,458,63,405,1027,72,860,1497,495,20,769,55,55,162,1957,1616,22,542,50,39,1043,76,290,70,1066,2009,53,544,1853,35,446,41,727,40,1062,40,292,15,341,401,486,69,1727,45,989,1677,156,128,68,55,2018,55,564,83,1003,797,401,928,858,409,282,67,199,1253,178,976,1001,1919,46,62,1761,467,1149,1416,1113,32,46,960,1829,725,2302,1250,683,50,41,77,54,53,475,96,64,149,231,728,1778,93,23,662,1198,81,92,1564,926,1910,411,94,1085,1415,405,1908,2486,19,573,1493,89,936,724,58,297,859,1574,69,2194,116,103,44,406,1363,236,39,79,63,1314,71,58,702,1211,1461,1091,55,1366,62,72,655,704,54,1033,36,122,1123,497,691,1363,12,2440,37,270,278,938,1178,1155,506,38,906,46,1477,766,47,467,2116,1298,22,20,357,1401,15,981,523,23,1958,777,121,12,937,367,443,267,61,63,64,562,312,1574,63,426,96,635,125,330,78,957,57,1956,326,77,315,660,74,61,145,684,411,1459,18,1833,237,515,1020,1370,1026,301,684,499,1004,218,606,75,106,990,16,34,1711,438,75,225,18,470,504,235,60,155,51,139,183,1161,988,174,758,195,1084,685,1672,43,49,133,363,545,1065,2047,296,152,1598,25,87,1215,61,405,72,40,52,39,805,130,1631,34,71,711,351,21,10,973,1536,992,1529,860,418,587,641,23,2279,1804,48,793,84,183,999,610,1286,30,99,362,2130,38,485,434,496,78,2346,794,17,76,198,49,802,1736,59,2302,37,1305,832,401,1501,1189,1194,656,311,820,274,448,44,102,61,1643,397,1121,50,1678,58,170,1196,101,316,1400,844,311,1149,129,320,441,1178,85,30,410,800,1483,28,227,1555,103,586,62,939,30,251,91,971,68,322,317,177,45,45,1899,42,22,41,1440,325,95,42,20,789,417,289,769,188,727,146,319,794,454,797,1690,20,1428,96,222,61,44,8,42,60,78,23,19,37,1131,48,289,30,125,156,70,22,65,2283,310,1319,879,1244,690,209,1134,529,1091,77,534,637,46,44,47,586,1574,13,1471,65,175,1078,1115,134,87,1034,819,32,46,1159,1631,444,1910,380,736,2524,612,75,1045,1064,1443,1366,436,436,747,928,642,1048,943,907,1198,1658,1638,73,854,78,106,1662,48,733,112,55,1513,271,904,103,1086,72,964,1383,100,80,23,641,1106,1033,1174,25,240,156,458,17,92,841,633,1019,54,52,436,268,147,1798,137,15,1105,66,169,299,221,1682,155,892,58,311,47,1410,35,562,2352,32,41,39,1141,401,506,57,31,882,16,227,1152,122,77,1289,211,233,54,78,1095,244,116,15,425,734,894,41,31,34,612,29,823,396,55,1730,335,825,694,231,772,47,1586,1529,1603,2091,981,1533,82,244,404,71,1572,122,41,10,304,37,815,21,67,25,746,1080,72,660,103,153,1220,279,745,264,2157,1526,69,1597,497,31,211,877,11,2034,252,964,1327,68,60,1456,1125,358,42,184,460,1376,1382,28,1033,2231,1101,369,81,45,664,622,461,1073,55,976,1149,43,224,209,1165,24,252,269,102,461,1338,917,318,502,119,1250,969,76,1382,255,43,902,823,1179,1921,185,34,907,1588,40,914,1502,27,763,525,9,953,882,1149,37,1428,1633,173,215,929,219,174,92,1052,275,587,159,1042,395,557,9,69,486,13,1401,1574,84,1536,581,928,960,1555,55,367,2257,1515,1039,1828,34,46,820,382,2126,2069,72,80,507,68,397,306,976,1028,70,46,51,1263,1564,1815,85,21,909,24,1182,1280,749,91,414,44,63,901,38,15,38,1512,43,1089,162,1173,816,134,561,2092,20,1012,45,1734,823,1138,1371,318,434,198,359,576,63,193,2211,140,22,263,393,147,443,174,25,809,895,484,413,115,52,1464,747,1941,839,23,66,37,22,78,79,265,1175,1305,46,25,874,100,868,45,1260,414,392,1109,79,1665,44,50,467,158,1211,1208,43,54,1088,721,137,1244,41,1174,100,1680,98,48,519,715,37,1455,26,97,207,176,433,1366,1001,961,1518,22,26,350,874,40,1367,2053,1376,45,976,51,1264,75,57,140,266,1021,22,133,437,1013,57,1038,123,13,132,732,66,1631,608,1822,1282,8,8,103,395,44,81,38,61,300,88,54,1782,68,31,66,28,731,1701,312,414,1479,873,1213,731,2043,575,257,56,542,125,40,1016,907,1566,1169,46,17,1853,1528,546,500,61,849,85,1147,54,43,1623,32,16,52,15,415,470,53,51,586,653,1679,50,62,30,1341,444,843,172],\"xaxis\":\"x\",\"yaxis\":\"y\",\"type\":\"histogram\"}],                        {\"template\":{\"data\":{\"barpolar\":[{\"marker\":{\"line\":{\"color\":\"rgb(17,17,17)\",\"width\":0.5},\"pattern\":{\"fillmode\":\"overlay\",\"size\":10,\"solidity\":0.2}},\"type\":\"barpolar\"}],\"bar\":[{\"error_x\":{\"color\":\"#f2f5fa\"},\"error_y\":{\"color\":\"#f2f5fa\"},\"marker\":{\"line\":{\"color\":\"rgb(17,17,17)\",\"width\":0.5},\"pattern\":{\"fillmode\":\"overlay\",\"size\":10,\"solidity\":0.2}},\"type\":\"bar\"}],\"carpet\":[{\"aaxis\":{\"endlinecolor\":\"#A2B1C6\",\"gridcolor\":\"#506784\",\"linecolor\":\"#506784\",\"minorgridcolor\":\"#506784\",\"startlinecolor\":\"#A2B1C6\"},\"baxis\":{\"endlinecolor\":\"#A2B1C6\",\"gridcolor\":\"#506784\",\"linecolor\":\"#506784\",\"minorgridcolor\":\"#506784\",\"startlinecolor\":\"#A2B1C6\"},\"type\":\"carpet\"}],\"choropleth\":[{\"colorbar\":{\"outlinewidth\":0,\"ticks\":\"\"},\"type\":\"choropleth\"}],\"contourcarpet\":[{\"colorbar\":{\"outlinewidth\":0,\"ticks\":\"\"},\"type\":\"contourcarpet\"}],\"contour\":[{\"colorbar\":{\"outlinewidth\":0,\"ticks\":\"\"},\"colorscale\":[[0.0,\"#0d0887\"],[0.1111111111111111,\"#46039f\"],[0.2222222222222222,\"#7201a8\"],[0.3333333333333333,\"#9c179e\"],[0.4444444444444444,\"#bd3786\"],[0.5555555555555556,\"#d8576b\"],[0.6666666666666666,\"#ed7953\"],[0.7777777777777778,\"#fb9f3a\"],[0.8888888888888888,\"#fdca26\"],[1.0,\"#f0f921\"]],\"type\":\"contour\"}],\"heatmapgl\":[{\"colorbar\":{\"outlinewidth\":0,\"ticks\":\"\"},\"colorscale\":[[0.0,\"#0d0887\"],[0.1111111111111111,\"#46039f\"],[0.2222222222222222,\"#7201a8\"],[0.3333333333333333,\"#9c179e\"],[0.4444444444444444,\"#bd3786\"],[0.5555555555555556,\"#d8576b\"],[0.6666666666666666,\"#ed7953\"],[0.7777777777777778,\"#fb9f3a\"],[0.8888888888888888,\"#fdca26\"],[1.0,\"#f0f921\"]],\"type\":\"heatmapgl\"}],\"heatmap\":[{\"colorbar\":{\"outlinewidth\":0,\"ticks\":\"\"},\"colorscale\":[[0.0,\"#0d0887\"],[0.1111111111111111,\"#46039f\"],[0.2222222222222222,\"#7201a8\"],[0.3333333333333333,\"#9c179e\"],[0.4444444444444444,\"#bd3786\"],[0.5555555555555556,\"#d8576b\"],[0.6666666666666666,\"#ed7953\"],[0.7777777777777778,\"#fb9f3a\"],[0.8888888888888888,\"#fdca26\"],[1.0,\"#f0f921\"]],\"type\":\"heatmap\"}],\"histogram2dcontour\":[{\"colorbar\":{\"outlinewidth\":0,\"ticks\":\"\"},\"colorscale\":[[0.0,\"#0d0887\"],[0.1111111111111111,\"#46039f\"],[0.2222222222222222,\"#7201a8\"],[0.3333333333333333,\"#9c179e\"],[0.4444444444444444,\"#bd3786\"],[0.5555555555555556,\"#d8576b\"],[0.6666666666666666,\"#ed7953\"],[0.7777777777777778,\"#fb9f3a\"],[0.8888888888888888,\"#fdca26\"],[1.0,\"#f0f921\"]],\"type\":\"histogram2dcontour\"}],\"histogram2d\":[{\"colorbar\":{\"outlinewidth\":0,\"ticks\":\"\"},\"colorscale\":[[0.0,\"#0d0887\"],[0.1111111111111111,\"#46039f\"],[0.2222222222222222,\"#7201a8\"],[0.3333333333333333,\"#9c179e\"],[0.4444444444444444,\"#bd3786\"],[0.5555555555555556,\"#d8576b\"],[0.6666666666666666,\"#ed7953\"],[0.7777777777777778,\"#fb9f3a\"],[0.8888888888888888,\"#fdca26\"],[1.0,\"#f0f921\"]],\"type\":\"histogram2d\"}],\"histogram\":[{\"marker\":{\"pattern\":{\"fillmode\":\"overlay\",\"size\":10,\"solidity\":0.2}},\"type\":\"histogram\"}],\"mesh3d\":[{\"colorbar\":{\"outlinewidth\":0,\"ticks\":\"\"},\"type\":\"mesh3d\"}],\"parcoords\":[{\"line\":{\"colorbar\":{\"outlinewidth\":0,\"ticks\":\"\"}},\"type\":\"parcoords\"}],\"pie\":[{\"automargin\":true,\"type\":\"pie\"}],\"scatter3d\":[{\"line\":{\"colorbar\":{\"outlinewidth\":0,\"ticks\":\"\"}},\"marker\":{\"colorbar\":{\"outlinewidth\":0,\"ticks\":\"\"}},\"type\":\"scatter3d\"}],\"scattercarpet\":[{\"marker\":{\"colorbar\":{\"outlinewidth\":0,\"ticks\":\"\"}},\"type\":\"scattercarpet\"}],\"scattergeo\":[{\"marker\":{\"colorbar\":{\"outlinewidth\":0,\"ticks\":\"\"}},\"type\":\"scattergeo\"}],\"scattergl\":[{\"marker\":{\"line\":{\"color\":\"#283442\"}},\"type\":\"scattergl\"}],\"scattermapbox\":[{\"marker\":{\"colorbar\":{\"outlinewidth\":0,\"ticks\":\"\"}},\"type\":\"scattermapbox\"}],\"scatterpolargl\":[{\"marker\":{\"colorbar\":{\"outlinewidth\":0,\"ticks\":\"\"}},\"type\":\"scatterpolargl\"}],\"scatterpolar\":[{\"marker\":{\"colorbar\":{\"outlinewidth\":0,\"ticks\":\"\"}},\"type\":\"scatterpolar\"}],\"scatter\":[{\"marker\":{\"line\":{\"color\":\"#283442\"}},\"type\":\"scatter\"}],\"scatterternary\":[{\"marker\":{\"colorbar\":{\"outlinewidth\":0,\"ticks\":\"\"}},\"type\":\"scatterternary\"}],\"surface\":[{\"colorbar\":{\"outlinewidth\":0,\"ticks\":\"\"},\"colorscale\":[[0.0,\"#0d0887\"],[0.1111111111111111,\"#46039f\"],[0.2222222222222222,\"#7201a8\"],[0.3333333333333333,\"#9c179e\"],[0.4444444444444444,\"#bd3786\"],[0.5555555555555556,\"#d8576b\"],[0.6666666666666666,\"#ed7953\"],[0.7777777777777778,\"#fb9f3a\"],[0.8888888888888888,\"#fdca26\"],[1.0,\"#f0f921\"]],\"type\":\"surface\"}],\"table\":[{\"cells\":{\"fill\":{\"color\":\"#506784\"},\"line\":{\"color\":\"rgb(17,17,17)\"}},\"header\":{\"fill\":{\"color\":\"#2a3f5f\"},\"line\":{\"color\":\"rgb(17,17,17)\"}},\"type\":\"table\"}]},\"layout\":{\"annotationdefaults\":{\"arrowcolor\":\"#f2f5fa\",\"arrowhead\":0,\"arrowwidth\":1},\"autotypenumbers\":\"strict\",\"coloraxis\":{\"colorbar\":{\"outlinewidth\":0,\"ticks\":\"\"}},\"colorscale\":{\"diverging\":[[0,\"#8e0152\"],[0.1,\"#c51b7d\"],[0.2,\"#de77ae\"],[0.3,\"#f1b6da\"],[0.4,\"#fde0ef\"],[0.5,\"#f7f7f7\"],[0.6,\"#e6f5d0\"],[0.7,\"#b8e186\"],[0.8,\"#7fbc41\"],[0.9,\"#4d9221\"],[1,\"#276419\"]],\"sequential\":[[0.0,\"#0d0887\"],[0.1111111111111111,\"#46039f\"],[0.2222222222222222,\"#7201a8\"],[0.3333333333333333,\"#9c179e\"],[0.4444444444444444,\"#bd3786\"],[0.5555555555555556,\"#d8576b\"],[0.6666666666666666,\"#ed7953\"],[0.7777777777777778,\"#fb9f3a\"],[0.8888888888888888,\"#fdca26\"],[1.0,\"#f0f921\"]],\"sequentialminus\":[[0.0,\"#0d0887\"],[0.1111111111111111,\"#46039f\"],[0.2222222222222222,\"#7201a8\"],[0.3333333333333333,\"#9c179e\"],[0.4444444444444444,\"#bd3786\"],[0.5555555555555556,\"#d8576b\"],[0.6666666666666666,\"#ed7953\"],[0.7777777777777778,\"#fb9f3a\"],[0.8888888888888888,\"#fdca26\"],[1.0,\"#f0f921\"]]},\"colorway\":[\"#636efa\",\"#EF553B\",\"#00cc96\",\"#ab63fa\",\"#FFA15A\",\"#19d3f3\",\"#FF6692\",\"#B6E880\",\"#FF97FF\",\"#FECB52\"],\"font\":{\"color\":\"#f2f5fa\"},\"geo\":{\"bgcolor\":\"rgb(17,17,17)\",\"lakecolor\":\"rgb(17,17,17)\",\"landcolor\":\"rgb(17,17,17)\",\"showlakes\":true,\"showland\":true,\"subunitcolor\":\"#506784\"},\"hoverlabel\":{\"align\":\"left\"},\"hovermode\":\"closest\",\"mapbox\":{\"style\":\"dark\"},\"paper_bgcolor\":\"rgb(17,17,17)\",\"plot_bgcolor\":\"rgb(17,17,17)\",\"polar\":{\"angularaxis\":{\"gridcolor\":\"#506784\",\"linecolor\":\"#506784\",\"ticks\":\"\"},\"bgcolor\":\"rgb(17,17,17)\",\"radialaxis\":{\"gridcolor\":\"#506784\",\"linecolor\":\"#506784\",\"ticks\":\"\"}},\"scene\":{\"xaxis\":{\"backgroundcolor\":\"rgb(17,17,17)\",\"gridcolor\":\"#506784\",\"gridwidth\":2,\"linecolor\":\"#506784\",\"showbackground\":true,\"ticks\":\"\",\"zerolinecolor\":\"#C8D4E3\"},\"yaxis\":{\"backgroundcolor\":\"rgb(17,17,17)\",\"gridcolor\":\"#506784\",\"gridwidth\":2,\"linecolor\":\"#506784\",\"showbackground\":true,\"ticks\":\"\",\"zerolinecolor\":\"#C8D4E3\"},\"zaxis\":{\"backgroundcolor\":\"rgb(17,17,17)\",\"gridcolor\":\"#506784\",\"gridwidth\":2,\"linecolor\":\"#506784\",\"showbackground\":true,\"ticks\":\"\",\"zerolinecolor\":\"#C8D4E3\"}},\"shapedefaults\":{\"line\":{\"color\":\"#f2f5fa\"}},\"sliderdefaults\":{\"bgcolor\":\"#C8D4E3\",\"bordercolor\":\"rgb(17,17,17)\",\"borderwidth\":1,\"tickwidth\":0},\"ternary\":{\"aaxis\":{\"gridcolor\":\"#506784\",\"linecolor\":\"#506784\",\"ticks\":\"\"},\"baxis\":{\"gridcolor\":\"#506784\",\"linecolor\":\"#506784\",\"ticks\":\"\"},\"bgcolor\":\"rgb(17,17,17)\",\"caxis\":{\"gridcolor\":\"#506784\",\"linecolor\":\"#506784\",\"ticks\":\"\"}},\"title\":{\"x\":0.05},\"updatemenudefaults\":{\"bgcolor\":\"#506784\",\"borderwidth\":0},\"xaxis\":{\"automargin\":true,\"gridcolor\":\"#283442\",\"linecolor\":\"#506784\",\"ticks\":\"\",\"title\":{\"standoff\":15},\"zerolinecolor\":\"#283442\",\"zerolinewidth\":2},\"yaxis\":{\"automargin\":true,\"gridcolor\":\"#283442\",\"linecolor\":\"#506784\",\"ticks\":\"\",\"title\":{\"standoff\":15},\"zerolinecolor\":\"#283442\",\"zerolinewidth\":2}}},\"xaxis\":{\"anchor\":\"y\",\"domain\":[0.0,0.98],\"title\":{\"text\":\"Expenses\"}},\"yaxis\":{\"anchor\":\"x\",\"domain\":[0.0,0.485],\"title\":{\"text\":\"count\"}},\"xaxis2\":{\"anchor\":\"y2\",\"domain\":[0.0,0.98],\"matches\":\"x\",\"showticklabels\":false},\"yaxis2\":{\"anchor\":\"x2\",\"domain\":[0.515,1.0],\"matches\":\"y\",\"title\":{\"text\":\"count\"}},\"annotations\":[{\"font\":{},\"showarrow\":false,\"text\":\"Marital_Status=relationship\",\"textangle\":90,\"x\":0.98,\"xanchor\":\"left\",\"xref\":\"paper\",\"y\":0.2425,\"yanchor\":\"middle\",\"yref\":\"paper\"},{\"font\":{},\"showarrow\":false,\"text\":\"Marital_Status=Single\",\"textangle\":90,\"x\":0.98,\"xanchor\":\"left\",\"xref\":\"paper\",\"y\":0.7575000000000001,\"yanchor\":\"middle\",\"yref\":\"paper\"}],\"legend\":{\"tracegroupgap\":0},\"margin\":{\"t\":60},\"barmode\":\"relative\"},                        {\"responsive\": true}                    ).then(function(){\n",
              "                            \n",
              "var gd = document.getElementById('77c8eaad-1f4a-4d7c-86e9-2f38360dba62');\n",
              "var x = new MutationObserver(function (mutations, observer) {{\n",
              "        var display = window.getComputedStyle(gd).display;\n",
              "        if (!display || display === 'none') {{\n",
              "            console.log([gd, 'removed!']);\n",
              "            Plotly.purge(gd);\n",
              "            observer.disconnect();\n",
              "        }}\n",
              "}});\n",
              "\n",
              "// Listen for the removal of the full notebook cells\n",
              "var notebookContainer = gd.closest('#notebook-container');\n",
              "if (notebookContainer) {{\n",
              "    x.observe(notebookContainer, {childList: true});\n",
              "}}\n",
              "\n",
              "// Listen for the clearing of the current output cell\n",
              "var outputEl = gd.closest('.output');\n",
              "if (outputEl) {{\n",
              "    x.observe(outputEl, {childList: true});\n",
              "}}\n",
              "\n",
              "                        })                };                            </script>        </div>\n",
              "</body>\n",
              "</html>"
            ]
          },
          "metadata": {}
        }
      ]
    },
    {
      "cell_type": "markdown",
      "source": [
        "The figure shows that less number of single customers."
      ],
      "metadata": {
        "id": "4vDv4Z0PPNHd"
      }
    },
    {
      "cell_type": "code",
      "source": [
        "fig =  px.pie (data, names = \"Marital_Status\", hole = 0.4, template = \"gridon\")\n",
        "fig.show ()"
      ],
      "metadata": {
        "colab": {
          "base_uri": "https://localhost:8080/",
          "height": 542
        },
        "id": "b_CXmC99PRBs",
        "outputId": "d2be19d4-7b56-4158-f024-a1edd0ec5102"
      },
      "execution_count": 32,
      "outputs": [
        {
          "output_type": "display_data",
          "data": {
            "text/html": [
              "<html>\n",
              "<head><meta charset=\"utf-8\" /></head>\n",
              "<body>\n",
              "    <div>            <script src=\"https://cdnjs.cloudflare.com/ajax/libs/mathjax/2.7.5/MathJax.js?config=TeX-AMS-MML_SVG\"></script><script type=\"text/javascript\">if (window.MathJax && window.MathJax.Hub && window.MathJax.Hub.Config) {window.MathJax.Hub.Config({SVG: {font: \"STIX-Web\"}});}</script>                <script type=\"text/javascript\">window.PlotlyConfig = {MathJaxConfig: 'local'};</script>\n",
              "        <script src=\"https://cdn.plot.ly/plotly-2.18.2.min.js\"></script>                <div id=\"c7e7e189-6a90-4790-9592-62bed228ac91\" class=\"plotly-graph-div\" style=\"height:525px; width:100%;\"></div>            <script type=\"text/javascript\">                                    window.PLOTLYENV=window.PLOTLYENV || {};                                    if (document.getElementById(\"c7e7e189-6a90-4790-9592-62bed228ac91\")) {                    Plotly.newPlot(                        \"c7e7e189-6a90-4790-9592-62bed228ac91\",                        [{\"domain\":{\"x\":[0.0,1.0],\"y\":[0.0,1.0]},\"hole\":0.4,\"hovertemplate\":\"Marital_Status=%{label}<extra></extra>\",\"labels\":[\"Single\",\"Single\",\"relationship\",\"relationship\",\"relationship\",\"relationship\",\"Single\",\"relationship\",\"relationship\",\"relationship\",\"relationship\",\"relationship\",\"Single\",\"Single\",\"relationship\",\"Single\",\"relationship\",\"relationship\",\"relationship\",\"Single\",\"relationship\",\"relationship\",\"relationship\",\"relationship\",\"relationship\",\"Single\",\"relationship\",\"Single\",\"relationship\",\"relationship\",\"Single\",\"relationship\",\"relationship\",\"Single\",\"relationship\",\"Single\",\"relationship\",\"relationship\",\"Single\",\"Single\",\"relationship\",\"relationship\",\"relationship\",\"Single\",\"relationship\",\"Single\",\"relationship\",\"relationship\",\"Single\",\"relationship\",\"Single\",\"relationship\",\"Single\",\"Single\",\"relationship\",\"relationship\",\"Single\",\"Single\",\"Single\",\"relationship\",\"Single\",\"relationship\",\"Single\",\"Single\",\"relationship\",\"relationship\",\"relationship\",\"Single\",\"relationship\",\"relationship\",\"relationship\",\"relationship\",\"relationship\",\"relationship\",\"relationship\",\"Single\",\"relationship\",\"Single\",\"relationship\",\"relationship\",\"Single\",\"relationship\",\"relationship\",\"relationship\",\"Single\",\"relationship\",\"relationship\",\"Single\",\"relationship\",\"relationship\",\"relationship\",\"Single\",\"relationship\",\"Single\",\"relationship\",\"relationship\",\"Single\",\"Single\",\"relationship\",\"relationship\",\"Single\",\"Single\",\"relationship\",\"relationship\",\"relationship\",\"relationship\",\"relationship\",\"relationship\",\"Single\",\"relationship\",\"relationship\",\"Single\",\"relationship\",\"Single\",\"relationship\",\"Single\",\"relationship\",\"relationship\",\"relationship\",\"relationship\",\"relationship\",\"Single\",\"relationship\",\"Single\",\"Single\",\"relationship\",\"Single\",\"relationship\",\"relationship\",\"relationship\",\"relationship\",\"Single\",\"relationship\",\"relationship\",\"relationship\",\"relationship\",\"Single\",\"relationship\",\"Single\",\"Single\",\"Single\",\"relationship\",\"relationship\",\"Single\",\"relationship\",\"relationship\",\"relationship\",\"relationship\",\"relationship\",\"relationship\",\"relationship\",\"relationship\",\"relationship\",\"Single\",\"relationship\",\"relationship\",\"Single\",\"Single\",\"relationship\",\"Single\",\"Single\",\"relationship\",\"relationship\",\"Single\",\"relationship\",\"relationship\",\"Single\",\"Single\",\"Single\",\"relationship\",\"relationship\",\"relationship\",\"relationship\",\"relationship\",\"Single\",\"relationship\",\"relationship\",\"relationship\",\"relationship\",\"relationship\",\"relationship\",\"relationship\",\"relationship\",\"relationship\",\"relationship\",\"relationship\",\"Single\",\"relationship\",\"relationship\",\"relationship\",\"relationship\",\"relationship\",\"Single\",\"relationship\",\"relationship\",\"relationship\",\"relationship\",\"relationship\",\"relationship\",\"Single\",\"Single\",\"Single\",\"Single\",\"relationship\",\"Single\",\"Single\",\"relationship\",\"Single\",\"relationship\",\"Single\",\"relationship\",\"relationship\",\"relationship\",\"relationship\",\"relationship\",\"relationship\",\"Single\",\"relationship\",\"Single\",\"relationship\",\"relationship\",\"relationship\",\"relationship\",\"relationship\",\"Single\",\"relationship\",\"relationship\",\"Single\",\"relationship\",\"relationship\",\"Single\",\"Single\",\"relationship\",\"Single\",\"relationship\",\"relationship\",\"relationship\",\"Single\",\"Single\",\"Single\",\"Single\",\"relationship\",\"Single\",\"relationship\",\"relationship\",\"relationship\",\"relationship\",\"relationship\",\"relationship\",\"relationship\",\"Single\",\"Single\",\"Single\",\"relationship\",\"relationship\",\"Single\",\"relationship\",\"Single\",\"Single\",\"Single\",\"Single\",\"Single\",\"relationship\",\"relationship\",\"relationship\",\"relationship\",\"relationship\",\"relationship\",\"relationship\",\"relationship\",\"Single\",\"Single\",\"relationship\",\"relationship\",\"Single\",\"relationship\",\"Single\",\"relationship\",\"Single\",\"Single\",\"relationship\",\"relationship\",\"relationship\",\"relationship\",\"relationship\",\"relationship\",\"relationship\",\"relationship\",\"Single\",\"Single\",\"relationship\",\"relationship\",\"relationship\",\"relationship\",\"relationship\",\"relationship\",\"Single\",\"relationship\",\"Single\",\"Single\",\"Single\",\"relationship\",\"relationship\",\"Single\",\"relationship\",\"relationship\",\"Single\",\"Single\",\"relationship\",\"relationship\",\"Single\",\"relationship\",\"relationship\",\"Single\",\"relationship\",\"relationship\",\"relationship\",\"Single\",\"relationship\",\"Single\",\"relationship\",\"relationship\",\"Single\",\"Single\",\"Single\",\"relationship\",\"Single\",\"relationship\",\"relationship\",\"Single\",\"Single\",\"Single\",\"relationship\",\"relationship\",\"relationship\",\"Single\",\"Single\",\"relationship\",\"relationship\",\"relationship\",\"Single\",\"Single\",\"relationship\",\"relationship\",\"relationship\",\"Single\",\"relationship\",\"Single\",\"Single\",\"relationship\",\"relationship\",\"relationship\",\"Single\",\"relationship\",\"Single\",\"Single\",\"relationship\",\"relationship\",\"relationship\",\"relationship\",\"relationship\",\"Single\",\"relationship\",\"relationship\",\"relationship\",\"Single\",\"relationship\",\"Single\",\"relationship\",\"Single\",\"relationship\",\"relationship\",\"Single\",\"Single\",\"Single\",\"Single\",\"Single\",\"Single\",\"relationship\",\"Single\",\"relationship\",\"relationship\",\"Single\",\"relationship\",\"Single\",\"Single\",\"relationship\",\"relationship\",\"relationship\",\"Single\",\"relationship\",\"relationship\",\"Single\",\"relationship\",\"relationship\",\"relationship\",\"relationship\",\"relationship\",\"Single\",\"relationship\",\"Single\",\"relationship\",\"Single\",\"relationship\",\"Single\",\"relationship\",\"Single\",\"Single\",\"relationship\",\"relationship\",\"Single\",\"relationship\",\"relationship\",\"Single\",\"relationship\",\"relationship\",\"relationship\",\"relationship\",\"Single\",\"relationship\",\"relationship\",\"relationship\",\"relationship\",\"relationship\",\"relationship\",\"relationship\",\"relationship\",\"relationship\",\"relationship\",\"relationship\",\"Single\",\"relationship\",\"relationship\",\"relationship\",\"Single\",\"relationship\",\"Single\",\"Single\",\"relationship\",\"relationship\",\"relationship\",\"relationship\",\"relationship\",\"Single\",\"relationship\",\"Single\",\"Single\",\"Single\",\"relationship\",\"relationship\",\"Single\",\"relationship\",\"Single\",\"relationship\",\"relationship\",\"relationship\",\"Single\",\"relationship\",\"relationship\",\"relationship\",\"relationship\",\"Single\",\"Single\",\"relationship\",\"relationship\",\"Single\",\"relationship\",\"Single\",\"relationship\",\"relationship\",\"relationship\",\"relationship\",\"relationship\",\"relationship\",\"Single\",\"relationship\",\"Single\",\"relationship\",\"relationship\",\"relationship\",\"relationship\",\"Single\",\"Single\",\"relationship\",\"relationship\",\"Single\",\"relationship\",\"relationship\",\"relationship\",\"Single\",\"relationship\",\"Single\",\"relationship\",\"Single\",\"Single\",\"Single\",\"Single\",\"relationship\",\"relationship\",\"relationship\",\"relationship\",\"relationship\",\"relationship\",\"relationship\",\"relationship\",\"Single\",\"relationship\",\"Single\",\"relationship\",\"Single\",\"relationship\",\"Single\",\"relationship\",\"relationship\",\"relationship\",\"Single\",\"relationship\",\"Single\",\"relationship\",\"relationship\",\"Single\",\"Single\",\"relationship\",\"relationship\",\"relationship\",\"relationship\",\"relationship\",\"relationship\",\"Single\",\"relationship\",\"Single\",\"Single\",\"relationship\",\"relationship\",\"Single\",\"relationship\",\"relationship\",\"Single\",\"relationship\",\"Single\",\"relationship\",\"Single\",\"Single\",\"relationship\",\"relationship\",\"relationship\",\"Single\",\"relationship\",\"relationship\",\"relationship\",\"Single\",\"Single\",\"Single\",\"relationship\",\"relationship\",\"relationship\",\"Single\",\"relationship\",\"relationship\",\"relationship\",\"relationship\",\"Single\",\"relationship\",\"relationship\",\"Single\",\"relationship\",\"Single\",\"relationship\",\"Single\",\"relationship\",\"relationship\",\"relationship\",\"Single\",\"relationship\",\"relationship\",\"relationship\",\"relationship\",\"relationship\",\"relationship\",\"relationship\",\"relationship\",\"relationship\",\"relationship\",\"relationship\",\"relationship\",\"relationship\",\"Single\",\"relationship\",\"relationship\",\"relationship\",\"Single\",\"relationship\",\"Single\",\"relationship\",\"relationship\",\"relationship\",\"Single\",\"relationship\",\"relationship\",\"relationship\",\"Single\",\"relationship\",\"Single\",\"relationship\",\"relationship\",\"Single\",\"Single\",\"Single\",\"relationship\",\"relationship\",\"Single\",\"Single\",\"relationship\",\"relationship\",\"Single\",\"relationship\",\"Single\",\"relationship\",\"Single\",\"relationship\",\"relationship\",\"Single\",\"Single\",\"Single\",\"relationship\",\"relationship\",\"Single\",\"relationship\",\"Single\",\"Single\",\"relationship\",\"relationship\",\"relationship\",\"Single\",\"Single\",\"Single\",\"Single\",\"relationship\",\"Single\",\"relationship\",\"relationship\",\"relationship\",\"Single\",\"Single\",\"relationship\",\"relationship\",\"relationship\",\"Single\",\"relationship\",\"relationship\",\"Single\",\"relationship\",\"relationship\",\"relationship\",\"Single\",\"Single\",\"relationship\",\"relationship\",\"relationship\",\"Single\",\"relationship\",\"relationship\",\"Single\",\"relationship\",\"relationship\",\"relationship\",\"relationship\",\"Single\",\"relationship\",\"relationship\",\"relationship\",\"Single\",\"Single\",\"relationship\",\"Single\",\"relationship\",\"relationship\",\"Single\",\"relationship\",\"Single\",\"Single\",\"Single\",\"relationship\",\"relationship\",\"relationship\",\"Single\",\"Single\",\"relationship\",\"relationship\",\"relationship\",\"Single\",\"Single\",\"relationship\",\"relationship\",\"Single\",\"relationship\",\"Single\",\"Single\",\"Single\",\"relationship\",\"Single\",\"relationship\",\"Single\",\"Single\",\"Single\",\"relationship\",\"Single\",\"Single\",\"relationship\",\"relationship\",\"relationship\",\"Single\",\"Single\",\"relationship\",\"relationship\",\"relationship\",\"Single\",\"relationship\",\"Single\",\"Single\",\"relationship\",\"relationship\",\"relationship\",\"relationship\",\"relationship\",\"relationship\",\"relationship\",\"Single\",\"relationship\",\"relationship\",\"Single\",\"relationship\",\"relationship\",\"Single\",\"Single\",\"relationship\",\"relationship\",\"relationship\",\"relationship\",\"relationship\",\"Single\",\"relationship\",\"Single\",\"relationship\",\"relationship\",\"relationship\",\"relationship\",\"Single\",\"Single\",\"relationship\",\"relationship\",\"relationship\",\"Single\",\"relationship\",\"relationship\",\"relationship\",\"relationship\",\"relationship\",\"relationship\",\"relationship\",\"relationship\",\"Single\",\"relationship\",\"Single\",\"Single\",\"relationship\",\"relationship\",\"relationship\",\"relationship\",\"relationship\",\"relationship\",\"relationship\",\"Single\",\"relationship\",\"relationship\",\"relationship\",\"Single\",\"relationship\",\"Single\",\"Single\",\"Single\",\"relationship\",\"Single\",\"relationship\",\"relationship\",\"relationship\",\"relationship\",\"Single\",\"relationship\",\"Single\",\"relationship\",\"relationship\",\"Single\",\"relationship\",\"Single\",\"Single\",\"relationship\",\"Single\",\"relationship\",\"relationship\",\"relationship\",\"Single\",\"relationship\",\"Single\",\"relationship\",\"relationship\",\"relationship\",\"relationship\",\"relationship\",\"Single\",\"relationship\",\"Single\",\"Single\",\"relationship\",\"relationship\",\"relationship\",\"relationship\",\"Single\",\"relationship\",\"relationship\",\"Single\",\"relationship\",\"Single\",\"relationship\",\"relationship\",\"Single\",\"relationship\",\"Single\",\"Single\",\"relationship\",\"Single\",\"Single\",\"relationship\",\"relationship\",\"relationship\",\"relationship\",\"Single\",\"Single\",\"Single\",\"Single\",\"relationship\",\"relationship\",\"Single\",\"relationship\",\"relationship\",\"relationship\",\"Single\",\"Single\",\"Single\",\"relationship\",\"Single\",\"relationship\",\"relationship\",\"relationship\",\"relationship\",\"Single\",\"relationship\",\"relationship\",\"relationship\",\"relationship\",\"relationship\",\"relationship\",\"relationship\",\"relationship\",\"Single\",\"relationship\",\"Single\",\"Single\",\"relationship\",\"relationship\",\"relationship\",\"Single\",\"relationship\",\"Single\",\"relationship\",\"relationship\",\"Single\",\"relationship\",\"Single\",\"relationship\",\"Single\",\"relationship\",\"Single\",\"relationship\",\"Single\",\"relationship\",\"Single\",\"relationship\",\"relationship\",\"Single\",\"relationship\",\"Single\",\"relationship\",\"Single\",\"Single\",\"Single\",\"relationship\",\"Single\",\"relationship\",\"Single\",\"relationship\",\"Single\",\"relationship\",\"relationship\",\"relationship\",\"Single\",\"Single\",\"Single\",\"relationship\",\"relationship\",\"Single\",\"relationship\",\"Single\",\"relationship\",\"Single\",\"relationship\",\"relationship\",\"relationship\",\"Single\",\"Single\",\"relationship\",\"Single\",\"Single\",\"relationship\",\"relationship\",\"relationship\",\"relationship\",\"Single\",\"Single\",\"relationship\",\"relationship\",\"Single\",\"Single\",\"relationship\",\"Single\",\"relationship\",\"relationship\",\"relationship\",\"Single\",\"Single\",\"Single\",\"relationship\",\"Single\",\"relationship\",\"Single\",\"relationship\",\"relationship\",\"Single\",\"relationship\",\"Single\",\"relationship\",\"relationship\",\"Single\",\"Single\",\"relationship\",\"relationship\",\"relationship\",\"Single\",\"relationship\",\"Single\",\"Single\",\"Single\",\"relationship\",\"relationship\",\"relationship\",\"relationship\",\"relationship\",\"relationship\",\"relationship\",\"relationship\",\"relationship\",\"relationship\",\"relationship\",\"Single\",\"relationship\",\"relationship\",\"relationship\",\"relationship\",\"relationship\",\"relationship\",\"Single\",\"Single\",\"Single\",\"Single\",\"relationship\",\"relationship\",\"relationship\",\"relationship\",\"Single\",\"Single\",\"Single\",\"relationship\",\"relationship\",\"Single\",\"Single\",\"Single\",\"relationship\",\"relationship\",\"relationship\",\"Single\",\"Single\",\"Single\",\"relationship\",\"relationship\",\"relationship\",\"Single\",\"relationship\",\"relationship\",\"relationship\",\"Single\",\"relationship\",\"relationship\",\"Single\",\"relationship\",\"relationship\",\"relationship\",\"relationship\",\"relationship\",\"relationship\",\"Single\",\"relationship\",\"relationship\",\"relationship\",\"relationship\",\"relationship\",\"relationship\",\"Single\",\"Single\",\"Single\",\"relationship\",\"relationship\",\"Single\",\"relationship\",\"relationship\",\"relationship\",\"Single\",\"relationship\",\"Single\",\"relationship\",\"relationship\",\"relationship\",\"relationship\",\"Single\",\"relationship\",\"relationship\",\"Single\",\"relationship\",\"relationship\",\"relationship\",\"relationship\",\"relationship\",\"relationship\",\"relationship\",\"Single\",\"relationship\",\"Single\",\"relationship\",\"relationship\",\"Single\",\"relationship\",\"relationship\",\"relationship\",\"Single\",\"Single\",\"relationship\",\"relationship\",\"Single\",\"Single\",\"Single\",\"relationship\",\"relationship\",\"relationship\",\"relationship\",\"relationship\",\"relationship\",\"relationship\",\"relationship\",\"relationship\",\"Single\",\"relationship\",\"Single\",\"relationship\",\"relationship\",\"relationship\",\"Single\",\"relationship\",\"Single\",\"relationship\",\"relationship\",\"Single\",\"relationship\",\"Single\",\"relationship\",\"Single\",\"relationship\",\"Single\",\"Single\",\"Single\",\"relationship\",\"relationship\",\"Single\",\"relationship\",\"relationship\",\"relationship\",\"relationship\",\"Single\",\"relationship\",\"relationship\",\"relationship\",\"relationship\",\"Single\",\"Single\",\"Single\",\"Single\",\"Single\",\"relationship\",\"relationship\",\"relationship\",\"relationship\",\"relationship\",\"Single\",\"relationship\",\"Single\",\"Single\",\"relationship\",\"Single\",\"Single\",\"relationship\",\"Single\",\"Single\",\"relationship\",\"Single\",\"relationship\",\"relationship\",\"Single\",\"relationship\",\"relationship\",\"Single\",\"Single\",\"relationship\",\"relationship\",\"relationship\",\"Single\",\"Single\",\"Single\",\"relationship\",\"relationship\",\"relationship\",\"relationship\",\"Single\",\"Single\",\"relationship\",\"relationship\",\"relationship\",\"relationship\",\"Single\",\"relationship\",\"relationship\",\"relationship\",\"relationship\",\"relationship\",\"relationship\",\"relationship\",\"relationship\",\"relationship\",\"relationship\",\"relationship\",\"relationship\",\"relationship\",\"Single\",\"relationship\",\"relationship\",\"relationship\",\"relationship\",\"relationship\",\"relationship\",\"relationship\",\"relationship\",\"Single\",\"Single\",\"relationship\",\"relationship\",\"Single\",\"Single\",\"Single\",\"Single\",\"relationship\",\"Single\",\"relationship\",\"relationship\",\"Single\",\"Single\",\"Single\",\"Single\",\"relationship\",\"Single\",\"relationship\",\"relationship\",\"relationship\",\"Single\",\"relationship\",\"relationship\",\"relationship\",\"Single\",\"relationship\",\"relationship\",\"relationship\",\"relationship\",\"relationship\",\"relationship\",\"relationship\",\"relationship\",\"relationship\",\"relationship\",\"relationship\",\"Single\",\"Single\",\"relationship\",\"relationship\",\"Single\",\"Single\",\"relationship\",\"Single\",\"relationship\",\"Single\",\"relationship\",\"Single\",\"relationship\",\"relationship\",\"relationship\",\"Single\",\"relationship\",\"Single\",\"relationship\",\"relationship\",\"relationship\",\"relationship\",\"relationship\",\"relationship\",\"Single\",\"Single\",\"relationship\",\"Single\",\"relationship\",\"relationship\",\"Single\",\"Single\",\"relationship\",\"relationship\",\"relationship\",\"relationship\",\"relationship\",\"relationship\",\"relationship\",\"Single\",\"relationship\",\"relationship\",\"relationship\",\"relationship\",\"relationship\",\"Single\",\"Single\",\"relationship\",\"relationship\",\"Single\",\"Single\",\"relationship\",\"relationship\",\"relationship\",\"Single\",\"relationship\",\"Single\",\"Single\",\"relationship\",\"Single\",\"relationship\",\"relationship\",\"relationship\",\"Single\",\"relationship\",\"relationship\",\"Single\",\"relationship\",\"relationship\",\"relationship\",\"Single\",\"relationship\",\"relationship\",\"relationship\",\"relationship\",\"relationship\",\"Single\",\"relationship\",\"Single\",\"Single\",\"relationship\",\"relationship\",\"relationship\",\"relationship\",\"Single\",\"relationship\",\"relationship\",\"relationship\",\"Single\",\"relationship\",\"relationship\",\"relationship\",\"relationship\",\"relationship\",\"relationship\",\"relationship\",\"Single\",\"relationship\",\"relationship\",\"relationship\",\"Single\",\"relationship\",\"relationship\",\"relationship\",\"relationship\",\"relationship\",\"relationship\",\"relationship\",\"Single\",\"relationship\",\"relationship\",\"relationship\",\"relationship\",\"Single\",\"relationship\",\"relationship\",\"relationship\",\"relationship\",\"Single\",\"relationship\",\"relationship\",\"relationship\",\"relationship\",\"Single\",\"Single\",\"relationship\",\"relationship\",\"relationship\",\"relationship\",\"Single\",\"Single\",\"relationship\",\"relationship\",\"relationship\",\"Single\",\"relationship\",\"Single\",\"relationship\",\"relationship\",\"relationship\",\"Single\",\"relationship\",\"Single\",\"Single\",\"Single\",\"relationship\",\"relationship\",\"Single\",\"relationship\",\"Single\",\"Single\",\"Single\",\"relationship\",\"Single\",\"relationship\",\"Single\",\"relationship\",\"Single\",\"Single\",\"relationship\",\"Single\",\"Single\",\"relationship\",\"relationship\",\"relationship\",\"Single\",\"relationship\",\"relationship\",\"Single\",\"relationship\",\"relationship\",\"relationship\",\"relationship\",\"relationship\",\"relationship\",\"relationship\",\"relationship\",\"relationship\",\"Single\",\"relationship\",\"relationship\",\"Single\",\"Single\",\"Single\",\"relationship\",\"relationship\",\"relationship\",\"relationship\",\"Single\",\"relationship\",\"relationship\",\"relationship\",\"relationship\",\"relationship\",\"Single\",\"relationship\",\"relationship\",\"relationship\",\"relationship\",\"Single\",\"Single\",\"relationship\",\"relationship\",\"relationship\",\"relationship\",\"relationship\",\"Single\",\"Single\",\"relationship\",\"relationship\",\"relationship\",\"relationship\",\"relationship\",\"Single\",\"Single\",\"relationship\",\"Single\",\"relationship\",\"Single\",\"Single\",\"relationship\",\"relationship\",\"relationship\",\"relationship\",\"relationship\",\"relationship\",\"relationship\",\"relationship\",\"Single\",\"relationship\",\"relationship\",\"relationship\",\"relationship\",\"relationship\",\"relationship\",\"relationship\",\"relationship\",\"Single\",\"Single\",\"relationship\",\"relationship\",\"Single\",\"relationship\",\"Single\",\"relationship\",\"Single\",\"relationship\",\"relationship\",\"relationship\",\"relationship\",\"Single\",\"relationship\",\"relationship\",\"relationship\",\"relationship\",\"relationship\",\"relationship\",\"Single\",\"relationship\",\"relationship\",\"relationship\",\"Single\",\"relationship\",\"Single\",\"relationship\",\"Single\",\"relationship\",\"relationship\",\"relationship\",\"relationship\",\"Single\",\"relationship\",\"relationship\",\"relationship\",\"relationship\",\"relationship\",\"Single\",\"relationship\",\"relationship\",\"relationship\",\"relationship\",\"Single\",\"relationship\",\"relationship\",\"relationship\",\"relationship\",\"Single\",\"relationship\",\"relationship\",\"Single\",\"relationship\",\"relationship\",\"relationship\",\"relationship\",\"relationship\",\"relationship\",\"Single\",\"relationship\",\"relationship\",\"relationship\",\"Single\",\"relationship\",\"relationship\",\"relationship\",\"Single\",\"Single\",\"relationship\",\"Single\",\"relationship\",\"Single\",\"relationship\",\"Single\",\"relationship\",\"Single\",\"relationship\",\"relationship\",\"relationship\",\"relationship\",\"Single\",\"relationship\",\"Single\",\"Single\",\"Single\",\"relationship\",\"Single\",\"relationship\",\"relationship\",\"relationship\",\"Single\",\"Single\",\"relationship\",\"relationship\",\"Single\",\"Single\",\"relationship\",\"Single\",\"relationship\",\"relationship\",\"relationship\",\"relationship\",\"relationship\",\"relationship\",\"Single\",\"Single\",\"Single\",\"relationship\",\"relationship\",\"relationship\",\"Single\",\"relationship\",\"Single\",\"Single\",\"relationship\",\"relationship\",\"relationship\",\"Single\",\"relationship\",\"Single\",\"relationship\",\"relationship\",\"relationship\",\"relationship\",\"relationship\",\"relationship\",\"Single\",\"relationship\",\"relationship\",\"Single\",\"relationship\",\"Single\",\"Single\",\"relationship\",\"relationship\",\"relationship\",\"relationship\",\"relationship\",\"relationship\",\"relationship\",\"relationship\",\"Single\",\"Single\",\"relationship\",\"Single\",\"relationship\",\"relationship\",\"relationship\",\"relationship\",\"Single\",\"relationship\",\"relationship\",\"relationship\",\"relationship\",\"Single\",\"relationship\",\"relationship\",\"Single\",\"relationship\",\"Single\",\"Single\",\"relationship\",\"relationship\",\"relationship\",\"Single\",\"relationship\",\"relationship\",\"relationship\",\"relationship\",\"relationship\",\"Single\",\"relationship\",\"relationship\",\"Single\",\"Single\",\"relationship\",\"relationship\",\"relationship\",\"relationship\",\"relationship\",\"relationship\",\"relationship\",\"relationship\",\"Single\",\"relationship\",\"relationship\",\"relationship\",\"relationship\",\"Single\",\"relationship\",\"relationship\",\"relationship\",\"Single\",\"relationship\",\"Single\",\"Single\",\"Single\",\"relationship\",\"Single\",\"Single\",\"relationship\",\"Single\",\"Single\",\"relationship\",\"relationship\",\"relationship\",\"Single\",\"Single\",\"relationship\",\"Single\",\"Single\",\"Single\",\"Single\",\"relationship\",\"relationship\",\"relationship\",\"relationship\",\"Single\",\"relationship\",\"relationship\",\"relationship\",\"relationship\",\"relationship\",\"relationship\",\"Single\",\"relationship\",\"relationship\",\"relationship\",\"relationship\",\"relationship\",\"relationship\",\"relationship\",\"relationship\",\"Single\",\"relationship\",\"Single\",\"Single\",\"Single\",\"Single\",\"relationship\",\"Single\",\"relationship\",\"Single\",\"relationship\",\"relationship\",\"Single\",\"Single\",\"relationship\",\"relationship\",\"Single\",\"relationship\",\"relationship\",\"relationship\",\"relationship\",\"relationship\",\"relationship\",\"relationship\",\"relationship\",\"relationship\",\"relationship\",\"relationship\",\"Single\",\"relationship\",\"Single\",\"relationship\",\"relationship\",\"relationship\",\"relationship\",\"relationship\",\"Single\",\"Single\",\"Single\",\"Single\",\"relationship\",\"Single\",\"relationship\",\"relationship\",\"relationship\",\"relationship\",\"Single\",\"relationship\",\"Single\",\"Single\",\"Single\",\"relationship\",\"relationship\",\"relationship\",\"relationship\",\"relationship\",\"Single\",\"relationship\",\"Single\",\"relationship\",\"relationship\",\"relationship\",\"Single\",\"relationship\",\"relationship\",\"relationship\",\"Single\",\"Single\",\"Single\",\"Single\",\"relationship\",\"Single\",\"relationship\",\"relationship\",\"relationship\",\"Single\",\"relationship\",\"relationship\",\"relationship\",\"relationship\",\"Single\",\"relationship\",\"relationship\",\"relationship\",\"Single\",\"relationship\",\"Single\",\"relationship\",\"relationship\",\"relationship\",\"Single\",\"relationship\",\"relationship\",\"relationship\",\"Single\",\"Single\",\"relationship\",\"relationship\",\"relationship\",\"Single\",\"relationship\",\"relationship\",\"relationship\",\"relationship\",\"relationship\",\"Single\",\"relationship\",\"Single\",\"relationship\",\"relationship\",\"Single\",\"Single\",\"relationship\",\"relationship\",\"relationship\",\"relationship\",\"relationship\",\"Single\",\"relationship\",\"relationship\",\"Single\",\"Single\",\"relationship\",\"Single\",\"relationship\",\"Single\",\"relationship\",\"relationship\",\"Single\",\"relationship\",\"relationship\",\"Single\",\"relationship\",\"relationship\",\"relationship\",\"Single\",\"Single\",\"relationship\",\"relationship\",\"relationship\",\"Single\",\"relationship\",\"relationship\",\"relationship\",\"Single\",\"relationship\",\"relationship\",\"relationship\",\"relationship\",\"relationship\",\"relationship\",\"relationship\",\"relationship\",\"Single\",\"relationship\",\"Single\",\"Single\",\"relationship\",\"relationship\",\"relationship\",\"relationship\",\"relationship\",\"relationship\",\"Single\",\"Single\",\"relationship\",\"relationship\",\"relationship\",\"Single\",\"Single\",\"Single\",\"relationship\",\"relationship\",\"relationship\",\"relationship\",\"Single\",\"Single\",\"relationship\",\"relationship\",\"Single\",\"relationship\",\"Single\",\"relationship\",\"relationship\",\"Single\",\"Single\",\"Single\",\"Single\",\"Single\",\"Single\",\"Single\",\"relationship\",\"relationship\",\"Single\",\"relationship\",\"relationship\",\"Single\",\"Single\",\"Single\",\"Single\",\"relationship\",\"Single\",\"relationship\",\"relationship\",\"relationship\",\"relationship\",\"relationship\",\"Single\",\"Single\",\"Single\",\"relationship\",\"Single\",\"Single\",\"relationship\",\"relationship\",\"Single\",\"relationship\",\"Single\",\"relationship\",\"relationship\",\"relationship\",\"relationship\",\"relationship\",\"relationship\",\"relationship\",\"Single\",\"relationship\",\"relationship\",\"Single\",\"Single\",\"relationship\",\"Single\",\"Single\",\"relationship\",\"Single\",\"relationship\",\"Single\",\"Single\",\"Single\",\"relationship\",\"relationship\",\"relationship\",\"Single\",\"relationship\",\"relationship\",\"relationship\",\"relationship\",\"relationship\",\"relationship\",\"relationship\",\"Single\",\"Single\",\"relationship\",\"relationship\",\"relationship\",\"relationship\",\"Single\",\"relationship\",\"relationship\",\"Single\",\"relationship\",\"relationship\",\"Single\",\"relationship\",\"Single\",\"relationship\",\"Single\",\"relationship\",\"Single\",\"Single\",\"relationship\",\"Single\",\"Single\",\"Single\",\"relationship\",\"Single\",\"relationship\",\"Single\",\"Single\",\"relationship\",\"relationship\",\"relationship\",\"Single\",\"relationship\",\"Single\",\"Single\",\"relationship\",\"relationship\",\"relationship\",\"relationship\",\"relationship\",\"Single\",\"relationship\",\"Single\",\"relationship\",\"Single\",\"relationship\",\"relationship\",\"Single\",\"relationship\",\"relationship\",\"relationship\",\"relationship\",\"relationship\",\"Single\",\"relationship\",\"Single\",\"Single\",\"relationship\",\"relationship\",\"relationship\",\"relationship\",\"relationship\",\"Single\",\"Single\",\"Single\",\"relationship\",\"Single\",\"Single\",\"relationship\",\"relationship\",\"Single\",\"Single\",\"relationship\",\"Single\",\"Single\",\"relationship\",\"relationship\",\"Single\",\"relationship\",\"relationship\",\"relationship\",\"Single\",\"relationship\",\"relationship\",\"relationship\",\"relationship\",\"relationship\",\"relationship\",\"relationship\",\"relationship\",\"Single\",\"relationship\",\"relationship\",\"Single\",\"relationship\",\"relationship\",\"relationship\",\"relationship\",\"relationship\",\"relationship\",\"Single\",\"relationship\",\"relationship\",\"Single\",\"Single\",\"relationship\",\"relationship\",\"relationship\",\"Single\",\"relationship\",\"relationship\",\"Single\",\"relationship\",\"relationship\",\"Single\",\"Single\",\"Single\",\"relationship\",\"Single\",\"Single\",\"Single\",\"relationship\",\"relationship\",\"relationship\",\"Single\",\"relationship\",\"relationship\",\"relationship\",\"Single\",\"relationship\",\"relationship\",\"relationship\",\"relationship\",\"relationship\",\"relationship\",\"relationship\",\"Single\",\"relationship\",\"Single\",\"relationship\",\"Single\",\"relationship\",\"relationship\",\"relationship\",\"Single\",\"relationship\",\"relationship\",\"Single\",\"relationship\",\"relationship\",\"relationship\",\"Single\",\"relationship\",\"Single\",\"relationship\",\"relationship\",\"Single\",\"relationship\",\"relationship\",\"relationship\",\"Single\",\"relationship\",\"relationship\",\"relationship\",\"relationship\",\"relationship\",\"relationship\",\"relationship\",\"relationship\",\"relationship\",\"Single\",\"relationship\",\"Single\",\"Single\",\"relationship\",\"relationship\",\"relationship\",\"relationship\",\"relationship\",\"relationship\",\"relationship\",\"Single\",\"Single\",\"relationship\",\"relationship\",\"relationship\",\"relationship\",\"relationship\",\"relationship\",\"relationship\",\"relationship\",\"relationship\",\"relationship\",\"Single\",\"Single\",\"relationship\",\"relationship\",\"Single\",\"relationship\",\"Single\",\"Single\",\"Single\",\"Single\",\"Single\",\"relationship\",\"Single\",\"relationship\",\"Single\",\"Single\",\"relationship\",\"relationship\",\"relationship\",\"relationship\",\"relationship\",\"relationship\",\"relationship\",\"Single\",\"relationship\",\"relationship\",\"Single\",\"relationship\",\"relationship\",\"Single\",\"relationship\",\"relationship\",\"relationship\",\"Single\",\"Single\",\"Single\",\"Single\",\"Single\",\"relationship\",\"Single\",\"Single\",\"Single\",\"relationship\",\"relationship\",\"relationship\",\"relationship\",\"Single\",\"Single\",\"relationship\",\"relationship\",\"relationship\",\"relationship\",\"relationship\",\"Single\",\"relationship\",\"relationship\",\"relationship\",\"relationship\",\"relationship\",\"relationship\",\"Single\",\"Single\",\"relationship\",\"relationship\",\"relationship\",\"Single\",\"Single\",\"relationship\",\"relationship\",\"relationship\",\"Single\",\"Single\",\"Single\",\"relationship\",\"relationship\",\"Single\",\"relationship\",\"relationship\",\"relationship\",\"Single\",\"Single\",\"relationship\",\"Single\",\"Single\",\"relationship\",\"relationship\",\"relationship\",\"Single\",\"relationship\",\"relationship\",\"relationship\",\"Single\",\"relationship\",\"relationship\",\"Single\",\"relationship\",\"relationship\",\"Single\",\"relationship\",\"relationship\",\"Single\",\"Single\",\"Single\",\"relationship\",\"relationship\",\"relationship\",\"relationship\",\"Single\",\"relationship\",\"relationship\"],\"legendgroup\":\"\",\"name\":\"\",\"showlegend\":true,\"type\":\"pie\"}],                        {\"template\":{\"data\":{\"pie\":[{\"automargin\":true,\"type\":\"pie\"}]},\"layout\":{\"xaxis\":{\"showgrid\":true,\"title\":{\"standoff\":15}},\"yaxis\":{\"showgrid\":true,\"title\":{\"standoff\":15}}}},\"legend\":{\"tracegroupgap\":0},\"margin\":{\"t\":60}},                        {\"responsive\": true}                    ).then(function(){\n",
              "                            \n",
              "var gd = document.getElementById('c7e7e189-6a90-4790-9592-62bed228ac91');\n",
              "var x = new MutationObserver(function (mutations, observer) {{\n",
              "        var display = window.getComputedStyle(gd).display;\n",
              "        if (!display || display === 'none') {{\n",
              "            console.log([gd, 'removed!']);\n",
              "            Plotly.purge(gd);\n",
              "            observer.disconnect();\n",
              "        }}\n",
              "}});\n",
              "\n",
              "// Listen for the removal of the full notebook cells\n",
              "var notebookContainer = gd.closest('#notebook-container');\n",
              "if (notebookContainer) {{\n",
              "    x.observe(notebookContainer, {childList: true});\n",
              "}}\n",
              "\n",
              "// Listen for the clearing of the current output cell\n",
              "var outputEl = gd.closest('.output');\n",
              "if (outputEl) {{\n",
              "    x.observe(outputEl, {childList: true});\n",
              "}}\n",
              "\n",
              "                        })                };                            </script>        </div>\n",
              "</body>\n",
              "</html>"
            ]
          },
          "metadata": {}
        }
      ]
    },
    {
      "cell_type": "markdown",
      "source": [
        "The plot shows that 35% of the customer are single whereas more than  64% are in relationship."
      ],
      "metadata": {
        "id": "u4SkM3Z1PXzh"
      }
    },
    {
      "cell_type": "code",
      "source": [
        "sns.barplot(x = data['Expenses'],y = data['Education']);\n",
        "plt.title('Total Expense based on the Education Level');"
      ],
      "metadata": {
        "colab": {
          "base_uri": "https://localhost:8080/",
          "height": 301
        },
        "id": "dy46qfJkPkoS",
        "outputId": "c6b8b39e-fcf3-4de5-8073-159d13f17256"
      },
      "execution_count": 33,
      "outputs": [
        {
          "output_type": "display_data",
          "data": {
            "text/plain": [
              "<Figure size 432x288 with 1 Axes>"
            ],
            "image/png": "[encoded data removed]"
          },
          "metadata": {}
        }
      ]
    },
    {
      "cell_type": "markdown",
      "source": [
        "PG level expense more than UG level."
      ],
      "metadata": {
        "id": "XX-n7Yj7Pp4o"
      }
    },
    {
      "cell_type": "code",
      "source": [
        "sns.barplot(x = data['Income'],y = data['Education']);\n",
        "plt.title('Total Income based on the Education Level');"
      ],
      "metadata": {
        "colab": {
          "base_uri": "https://localhost:8080/",
          "height": 301
        },
        "id": "vKgwuc-vPsU5",
        "outputId": "3d42b81b-2780-4c16-a32f-2af1f35cacce"
      },
      "execution_count": 34,
      "outputs": [
        {
          "output_type": "display_data",
          "data": {
            "text/plain": [
              "<Figure size 432x288 with 1 Axes>"
            ],
            "image/png": "[encoded data removed]"
          },
          "metadata": {}
        }
      ]
    },
    {
      "cell_type": "markdown",
      "source": [
        "The total income of PG level is more than UG level."
      ],
      "metadata": {
        "id": "2TWpmZOeP6uH"
      }
    },
    {
      "cell_type": "code",
      "source": [
        "plt.figure(figsize=(12,7), facecolor='lightyellow')\n",
        "ax = data[['MntWines', 'MntFruits', 'MntMeatProducts', 'MntFishProducts', 'MntSweetProducts', 'MntGoldProds']].sum().sort_values(ascending=True).plot(kind='barh')\n",
        "plt.title('Expenses', pad=15, fontsize=18, fontweight='semibold')\n",
        "rects = ax.patches\n",
        "for rect in rects:\n",
        " x_value = rect.get_width()\n",
        " y_value = rect.get_y() + rect.get_height() / 2\n",
        "plt.annotate('{}'.format(x_value), (x_value, y_value), xytext=(-49, 0),\n",
        "textcoords='offset points', va='center', ha='left', color = 'white', fontsize=11, fontweight='semibold')"
      ],
      "metadata": {
        "colab": {
          "base_uri": "https://localhost:8080/",
          "height": 477
        },
        "id": "F-5NIzAiYzzj",
        "outputId": "7e531893-04de-4f35-dc27-b0c225bd361c"
      },
      "execution_count": 60,
      "outputs": [
        {
          "output_type": "execute_result",
          "data": {
            "text/plain": [
              "Text(-49, 0, '680816')"
            ]
          },
          "metadata": {},
          "execution_count": 60
        },
        {
          "output_type": "display_data",
          "data": {
            "text/plain": [
              "<Figure size 864x504 with 1 Axes>"
            ],
            "image/png": "[encoded data removed]"
          },
          "metadata": {}
        }
      ]
    },
    {
      "cell_type": "markdown",
      "source": [
        "Outlier Detection"
      ],
      "metadata": {
        "id": "hdd-LX8yRu8h"
      }
    },
    {
      "cell_type": "code",
      "source": [
        "plt.figure(figsize=(13,8))\n",
        "sns.distplot(data.Age, color='purple');"
      ],
      "metadata": {
        "colab": {
          "base_uri": "https://localhost:8080/",
          "height": 502
        },
        "id": "dZLrZ-QhR0a3",
        "outputId": "84d492ed-2bc6-4056-f5fa-24acf9a3db6e"
      },
      "execution_count": 42,
      "outputs": [
        {
          "output_type": "display_data",
          "data": {
            "text/plain": [
              "<Figure size 936x576 with 1 Axes>"
            ],
            "image/png": "[encoded data removed]"
          },
          "metadata": {}
        }
      ]
    },
    {
      "cell_type": "code",
      "source": [
        "plt.figure(figsize=(13,8))\n",
        "sns.distplot(data.Income, color='Yellow');\n",
        "     "
      ],
      "metadata": {
        "colab": {
          "base_uri": "https://localhost:8080/",
          "height": 513
        },
        "id": "FbwgkNOrSCNY",
        "outputId": "e99cda7e-0634-46dd-b821-f93117459eb3"
      },
      "execution_count": 43,
      "outputs": [
        {
          "output_type": "display_data",
          "data": {
            "text/plain": [
              "<Figure size 936x576 with 1 Axes>"
            ],
            "image/png": "[encoded data removed]"
          },
          "metadata": {}
        }
      ]
    }
  ]
}